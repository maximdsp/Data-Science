{
  "cells": [
    {
      "cell_type": "markdown",
      "metadata": {},
      "source": [
        "<p style=\"text-align:center\">\n",
        "    <a href=\"https://skills.network/?utm_medium=Exinfluencer&utm_source=Exinfluencer&utm_content=000026UJ&utm_term=10006555&utm_id=NA-SkillsNetwork-Channel-SkillsNetworkCoursesIBMDeveloperSkillsNetworkML0101ENSkillsNetwork20718538-2022-01-01\" target=\"_blank\">\n",
        "    <img src=\"https://cf-courses-data.s3.us.cloud-object-storage.appdomain.cloud/assets/logos/SN_web_lightmode.png\" width=\"200\" alt=\"Skills Network Logo\">\n",
        "    </a>\n",
        "</p>\n",
        "\n",
        "<h1 align=\"center\"><font size=\"5\">Final Project: Classification with Python</font></h1>\n"
      ]
    },
    {
      "cell_type": "code",
      "execution_count": null,
      "metadata": {
        "trusted": true
      },
      "outputs": [],
      "source": [
        "\n",
        "def warn(*args, **kwargs):\n",
        "    pass\n",
        "import warnings\n",
        "warnings.warn = warn"
      ]
    },
    {
      "cell_type": "code",
      "execution_count": 5,
      "metadata": {
        "trusted": true
      },
      "outputs": [],
      "source": [
        "import pandas as pd\n",
        "from sklearn.linear_model import LogisticRegression\n",
        "from sklearn.linear_model import LinearRegression\n",
        "from sklearn import preprocessing\n",
        "import numpy as np\n",
        "from sklearn.neighbors import KNeighborsClassifier\n",
        "from sklearn.model_selection import train_test_split\n",
        "from sklearn.neighbors import KNeighborsClassifier\n",
        "from sklearn.tree import DecisionTreeClassifier\n",
        "from sklearn import svm\n",
        "from sklearn.metrics import jaccard_score\n",
        "from sklearn.metrics import f1_score\n",
        "from sklearn.metrics import log_loss\n",
        "from sklearn.metrics import confusion_matrix, accuracy_score\n",
        "import sklearn.metrics as metrics"
      ]
    },
    {
      "cell_type": "code",
      "execution_count": 6,
      "metadata": {
        "trusted": true
      },
      "outputs": [],
      "source": [
        "from pyodide.http import pyfetch\n",
        "\n",
        "async def download(url, filename):\n",
        "    response = await pyfetch(url)\n",
        "    if response.status == 200:\n",
        "        with open(filename, \"wb\") as f:\n",
        "            f.write(await response.bytes())"
      ]
    },
    {
      "cell_type": "code",
      "execution_count": 7,
      "metadata": {
        "trusted": true
      },
      "outputs": [],
      "source": [
        "path='https://cf-courses-data.s3.us.cloud-object-storage.appdomain.cloud/IBMDeveloperSkillsNetwork-ML0101EN-SkillUp/labs/ML-FinalAssignment/Weather_Data.csv'"
      ]
    },
    {
      "cell_type": "code",
      "execution_count": 8,
      "metadata": {
        "trusted": true
      },
      "outputs": [],
      "source": [
        "await download(path, \"Weather_Data.csv\")\n",
        "filename =\"Weather_Data.csv\""
      ]
    },
    {
      "cell_type": "code",
      "execution_count": 9,
      "metadata": {
        "trusted": true
      },
      "outputs": [],
      "source": [
        "df = pd.read_csv(\"Weather_Data.csv\")"
      ]
    },
    {
      "cell_type": "code",
      "execution_count": null,
      "metadata": {},
      "outputs": [],
      "source": [
        "#filepath = \"https://cf-courses-data.s3.us.cloud-object-storage.appdomain.cloud/IBMDeveloperSkillsNetwork-ML0101EN-SkillUp/labs/ML-FinalAssignment/Weather_Data.csv\"\n",
        "#df = pd.read_csv(filepath)"
      ]
    },
    {
      "cell_type": "code",
      "execution_count": 10,
      "metadata": {
        "trusted": true
      },
      "outputs": [
        {
          "data": {
            "text/html": [
              "<div>\n",
              "<style scoped>\n",
              "    .dataframe tbody tr th:only-of-type {\n",
              "        vertical-align: middle;\n",
              "    }\n",
              "\n",
              "    .dataframe tbody tr th {\n",
              "        vertical-align: top;\n",
              "    }\n",
              "\n",
              "    .dataframe thead th {\n",
              "        text-align: right;\n",
              "    }\n",
              "</style>\n",
              "<table border=\"1\" class=\"dataframe\">\n",
              "  <thead>\n",
              "    <tr style=\"text-align: right;\">\n",
              "      <th></th>\n",
              "      <th>Date</th>\n",
              "      <th>MinTemp</th>\n",
              "      <th>MaxTemp</th>\n",
              "      <th>Rainfall</th>\n",
              "      <th>Evaporation</th>\n",
              "      <th>Sunshine</th>\n",
              "      <th>WindGustDir</th>\n",
              "      <th>WindGustSpeed</th>\n",
              "      <th>WindDir9am</th>\n",
              "      <th>WindDir3pm</th>\n",
              "      <th>...</th>\n",
              "      <th>Humidity9am</th>\n",
              "      <th>Humidity3pm</th>\n",
              "      <th>Pressure9am</th>\n",
              "      <th>Pressure3pm</th>\n",
              "      <th>Cloud9am</th>\n",
              "      <th>Cloud3pm</th>\n",
              "      <th>Temp9am</th>\n",
              "      <th>Temp3pm</th>\n",
              "      <th>RainToday</th>\n",
              "      <th>RainTomorrow</th>\n",
              "    </tr>\n",
              "  </thead>\n",
              "  <tbody>\n",
              "    <tr>\n",
              "      <th>0</th>\n",
              "      <td>2/1/2008</td>\n",
              "      <td>19.5</td>\n",
              "      <td>22.4</td>\n",
              "      <td>15.6</td>\n",
              "      <td>6.2</td>\n",
              "      <td>0.0</td>\n",
              "      <td>W</td>\n",
              "      <td>41</td>\n",
              "      <td>S</td>\n",
              "      <td>SSW</td>\n",
              "      <td>...</td>\n",
              "      <td>92</td>\n",
              "      <td>84</td>\n",
              "      <td>1017.6</td>\n",
              "      <td>1017.4</td>\n",
              "      <td>8</td>\n",
              "      <td>8</td>\n",
              "      <td>20.7</td>\n",
              "      <td>20.9</td>\n",
              "      <td>Yes</td>\n",
              "      <td>Yes</td>\n",
              "    </tr>\n",
              "    <tr>\n",
              "      <th>1</th>\n",
              "      <td>2/2/2008</td>\n",
              "      <td>19.5</td>\n",
              "      <td>25.6</td>\n",
              "      <td>6.0</td>\n",
              "      <td>3.4</td>\n",
              "      <td>2.7</td>\n",
              "      <td>W</td>\n",
              "      <td>41</td>\n",
              "      <td>W</td>\n",
              "      <td>E</td>\n",
              "      <td>...</td>\n",
              "      <td>83</td>\n",
              "      <td>73</td>\n",
              "      <td>1017.9</td>\n",
              "      <td>1016.4</td>\n",
              "      <td>7</td>\n",
              "      <td>7</td>\n",
              "      <td>22.4</td>\n",
              "      <td>24.8</td>\n",
              "      <td>Yes</td>\n",
              "      <td>Yes</td>\n",
              "    </tr>\n",
              "    <tr>\n",
              "      <th>2</th>\n",
              "      <td>2/3/2008</td>\n",
              "      <td>21.6</td>\n",
              "      <td>24.5</td>\n",
              "      <td>6.6</td>\n",
              "      <td>2.4</td>\n",
              "      <td>0.1</td>\n",
              "      <td>W</td>\n",
              "      <td>41</td>\n",
              "      <td>ESE</td>\n",
              "      <td>ESE</td>\n",
              "      <td>...</td>\n",
              "      <td>88</td>\n",
              "      <td>86</td>\n",
              "      <td>1016.7</td>\n",
              "      <td>1015.6</td>\n",
              "      <td>7</td>\n",
              "      <td>8</td>\n",
              "      <td>23.5</td>\n",
              "      <td>23.0</td>\n",
              "      <td>Yes</td>\n",
              "      <td>Yes</td>\n",
              "    </tr>\n",
              "    <tr>\n",
              "      <th>3</th>\n",
              "      <td>2/4/2008</td>\n",
              "      <td>20.2</td>\n",
              "      <td>22.8</td>\n",
              "      <td>18.8</td>\n",
              "      <td>2.2</td>\n",
              "      <td>0.0</td>\n",
              "      <td>W</td>\n",
              "      <td>41</td>\n",
              "      <td>NNE</td>\n",
              "      <td>E</td>\n",
              "      <td>...</td>\n",
              "      <td>83</td>\n",
              "      <td>90</td>\n",
              "      <td>1014.2</td>\n",
              "      <td>1011.8</td>\n",
              "      <td>8</td>\n",
              "      <td>8</td>\n",
              "      <td>21.4</td>\n",
              "      <td>20.9</td>\n",
              "      <td>Yes</td>\n",
              "      <td>Yes</td>\n",
              "    </tr>\n",
              "    <tr>\n",
              "      <th>4</th>\n",
              "      <td>2/5/2008</td>\n",
              "      <td>19.7</td>\n",
              "      <td>25.7</td>\n",
              "      <td>77.4</td>\n",
              "      <td>4.8</td>\n",
              "      <td>0.0</td>\n",
              "      <td>W</td>\n",
              "      <td>41</td>\n",
              "      <td>NNE</td>\n",
              "      <td>W</td>\n",
              "      <td>...</td>\n",
              "      <td>88</td>\n",
              "      <td>74</td>\n",
              "      <td>1008.3</td>\n",
              "      <td>1004.8</td>\n",
              "      <td>8</td>\n",
              "      <td>8</td>\n",
              "      <td>22.5</td>\n",
              "      <td>25.5</td>\n",
              "      <td>Yes</td>\n",
              "      <td>Yes</td>\n",
              "    </tr>\n",
              "  </tbody>\n",
              "</table>\n",
              "<p>5 rows × 22 columns</p>\n",
              "</div>"
            ],
            "text/plain": [
              "       Date  MinTemp  MaxTemp  Rainfall  Evaporation  Sunshine WindGustDir  \\\n",
              "0  2/1/2008     19.5     22.4      15.6          6.2       0.0           W   \n",
              "1  2/2/2008     19.5     25.6       6.0          3.4       2.7           W   \n",
              "2  2/3/2008     21.6     24.5       6.6          2.4       0.1           W   \n",
              "3  2/4/2008     20.2     22.8      18.8          2.2       0.0           W   \n",
              "4  2/5/2008     19.7     25.7      77.4          4.8       0.0           W   \n",
              "\n",
              "   WindGustSpeed WindDir9am WindDir3pm  ...  Humidity9am  Humidity3pm  \\\n",
              "0             41          S        SSW  ...           92           84   \n",
              "1             41          W          E  ...           83           73   \n",
              "2             41        ESE        ESE  ...           88           86   \n",
              "3             41        NNE          E  ...           83           90   \n",
              "4             41        NNE          W  ...           88           74   \n",
              "\n",
              "   Pressure9am  Pressure3pm  Cloud9am  Cloud3pm  Temp9am  Temp3pm  RainToday  \\\n",
              "0       1017.6       1017.4         8         8     20.7     20.9        Yes   \n",
              "1       1017.9       1016.4         7         7     22.4     24.8        Yes   \n",
              "2       1016.7       1015.6         7         8     23.5     23.0        Yes   \n",
              "3       1014.2       1011.8         8         8     21.4     20.9        Yes   \n",
              "4       1008.3       1004.8         8         8     22.5     25.5        Yes   \n",
              "\n",
              "   RainTomorrow  \n",
              "0           Yes  \n",
              "1           Yes  \n",
              "2           Yes  \n",
              "3           Yes  \n",
              "4           Yes  \n",
              "\n",
              "[5 rows x 22 columns]"
            ]
          },
          "execution_count": 10,
          "metadata": {},
          "output_type": "execute_result"
        }
      ],
      "source": [
        "df.head()"
      ]
    },
    {
      "cell_type": "code",
      "execution_count": 50,
      "metadata": {
        "trusted": true
      },
      "outputs": [
        {
          "data": {
            "text/html": [
              "<div>\n",
              "<style scoped>\n",
              "    .dataframe tbody tr th:only-of-type {\n",
              "        vertical-align: middle;\n",
              "    }\n",
              "\n",
              "    .dataframe tbody tr th {\n",
              "        vertical-align: top;\n",
              "    }\n",
              "\n",
              "    .dataframe thead th {\n",
              "        text-align: right;\n",
              "    }\n",
              "</style>\n",
              "<table border=\"1\" class=\"dataframe\">\n",
              "  <thead>\n",
              "    <tr style=\"text-align: right;\">\n",
              "      <th></th>\n",
              "      <th>Date</th>\n",
              "      <th>MinTemp</th>\n",
              "      <th>MaxTemp</th>\n",
              "      <th>Rainfall</th>\n",
              "      <th>Evaporation</th>\n",
              "      <th>Sunshine</th>\n",
              "      <th>WindGustDir</th>\n",
              "      <th>WindGustSpeed</th>\n",
              "      <th>WindDir9am</th>\n",
              "      <th>WindDir3pm</th>\n",
              "      <th>...</th>\n",
              "      <th>Humidity9am</th>\n",
              "      <th>Humidity3pm</th>\n",
              "      <th>Pressure9am</th>\n",
              "      <th>Pressure3pm</th>\n",
              "      <th>Cloud9am</th>\n",
              "      <th>Cloud3pm</th>\n",
              "      <th>Temp9am</th>\n",
              "      <th>Temp3pm</th>\n",
              "      <th>RainToday</th>\n",
              "      <th>RainTomorrow</th>\n",
              "    </tr>\n",
              "  </thead>\n",
              "  <tbody>\n",
              "    <tr>\n",
              "      <th>0</th>\n",
              "      <td>2/1/2008</td>\n",
              "      <td>19.5</td>\n",
              "      <td>22.4</td>\n",
              "      <td>15.6</td>\n",
              "      <td>6.2</td>\n",
              "      <td>0.0</td>\n",
              "      <td>W</td>\n",
              "      <td>41</td>\n",
              "      <td>S</td>\n",
              "      <td>SSW</td>\n",
              "      <td>...</td>\n",
              "      <td>92</td>\n",
              "      <td>84</td>\n",
              "      <td>1017.6</td>\n",
              "      <td>1017.4</td>\n",
              "      <td>8</td>\n",
              "      <td>8</td>\n",
              "      <td>20.7</td>\n",
              "      <td>20.9</td>\n",
              "      <td>Yes</td>\n",
              "      <td>Yes</td>\n",
              "    </tr>\n",
              "    <tr>\n",
              "      <th>1</th>\n",
              "      <td>2/2/2008</td>\n",
              "      <td>19.5</td>\n",
              "      <td>25.6</td>\n",
              "      <td>6.0</td>\n",
              "      <td>3.4</td>\n",
              "      <td>2.7</td>\n",
              "      <td>W</td>\n",
              "      <td>41</td>\n",
              "      <td>W</td>\n",
              "      <td>E</td>\n",
              "      <td>...</td>\n",
              "      <td>83</td>\n",
              "      <td>73</td>\n",
              "      <td>1017.9</td>\n",
              "      <td>1016.4</td>\n",
              "      <td>7</td>\n",
              "      <td>7</td>\n",
              "      <td>22.4</td>\n",
              "      <td>24.8</td>\n",
              "      <td>Yes</td>\n",
              "      <td>Yes</td>\n",
              "    </tr>\n",
              "    <tr>\n",
              "      <th>2</th>\n",
              "      <td>2/3/2008</td>\n",
              "      <td>21.6</td>\n",
              "      <td>24.5</td>\n",
              "      <td>6.6</td>\n",
              "      <td>2.4</td>\n",
              "      <td>0.1</td>\n",
              "      <td>W</td>\n",
              "      <td>41</td>\n",
              "      <td>ESE</td>\n",
              "      <td>ESE</td>\n",
              "      <td>...</td>\n",
              "      <td>88</td>\n",
              "      <td>86</td>\n",
              "      <td>1016.7</td>\n",
              "      <td>1015.6</td>\n",
              "      <td>7</td>\n",
              "      <td>8</td>\n",
              "      <td>23.5</td>\n",
              "      <td>23.0</td>\n",
              "      <td>Yes</td>\n",
              "      <td>Yes</td>\n",
              "    </tr>\n",
              "    <tr>\n",
              "      <th>3</th>\n",
              "      <td>2/4/2008</td>\n",
              "      <td>20.2</td>\n",
              "      <td>22.8</td>\n",
              "      <td>18.8</td>\n",
              "      <td>2.2</td>\n",
              "      <td>0.0</td>\n",
              "      <td>W</td>\n",
              "      <td>41</td>\n",
              "      <td>NNE</td>\n",
              "      <td>E</td>\n",
              "      <td>...</td>\n",
              "      <td>83</td>\n",
              "      <td>90</td>\n",
              "      <td>1014.2</td>\n",
              "      <td>1011.8</td>\n",
              "      <td>8</td>\n",
              "      <td>8</td>\n",
              "      <td>21.4</td>\n",
              "      <td>20.9</td>\n",
              "      <td>Yes</td>\n",
              "      <td>Yes</td>\n",
              "    </tr>\n",
              "    <tr>\n",
              "      <th>4</th>\n",
              "      <td>2/5/2008</td>\n",
              "      <td>19.7</td>\n",
              "      <td>25.7</td>\n",
              "      <td>77.4</td>\n",
              "      <td>4.8</td>\n",
              "      <td>0.0</td>\n",
              "      <td>W</td>\n",
              "      <td>41</td>\n",
              "      <td>NNE</td>\n",
              "      <td>W</td>\n",
              "      <td>...</td>\n",
              "      <td>88</td>\n",
              "      <td>74</td>\n",
              "      <td>1008.3</td>\n",
              "      <td>1004.8</td>\n",
              "      <td>8</td>\n",
              "      <td>8</td>\n",
              "      <td>22.5</td>\n",
              "      <td>25.5</td>\n",
              "      <td>Yes</td>\n",
              "      <td>Yes</td>\n",
              "    </tr>\n",
              "    <tr>\n",
              "      <th>...</th>\n",
              "      <td>...</td>\n",
              "      <td>...</td>\n",
              "      <td>...</td>\n",
              "      <td>...</td>\n",
              "      <td>...</td>\n",
              "      <td>...</td>\n",
              "      <td>...</td>\n",
              "      <td>...</td>\n",
              "      <td>...</td>\n",
              "      <td>...</td>\n",
              "      <td>...</td>\n",
              "      <td>...</td>\n",
              "      <td>...</td>\n",
              "      <td>...</td>\n",
              "      <td>...</td>\n",
              "      <td>...</td>\n",
              "      <td>...</td>\n",
              "      <td>...</td>\n",
              "      <td>...</td>\n",
              "      <td>...</td>\n",
              "      <td>...</td>\n",
              "    </tr>\n",
              "    <tr>\n",
              "      <th>3266</th>\n",
              "      <td>6/21/2017</td>\n",
              "      <td>8.6</td>\n",
              "      <td>19.6</td>\n",
              "      <td>0.0</td>\n",
              "      <td>2.0</td>\n",
              "      <td>7.8</td>\n",
              "      <td>SSE</td>\n",
              "      <td>37</td>\n",
              "      <td>W</td>\n",
              "      <td>SSE</td>\n",
              "      <td>...</td>\n",
              "      <td>73</td>\n",
              "      <td>52</td>\n",
              "      <td>1025.9</td>\n",
              "      <td>1025.3</td>\n",
              "      <td>2</td>\n",
              "      <td>2</td>\n",
              "      <td>10.5</td>\n",
              "      <td>17.9</td>\n",
              "      <td>No</td>\n",
              "      <td>No</td>\n",
              "    </tr>\n",
              "    <tr>\n",
              "      <th>3267</th>\n",
              "      <td>6/22/2017</td>\n",
              "      <td>9.3</td>\n",
              "      <td>19.2</td>\n",
              "      <td>0.0</td>\n",
              "      <td>2.0</td>\n",
              "      <td>9.2</td>\n",
              "      <td>W</td>\n",
              "      <td>30</td>\n",
              "      <td>W</td>\n",
              "      <td>ESE</td>\n",
              "      <td>...</td>\n",
              "      <td>78</td>\n",
              "      <td>53</td>\n",
              "      <td>1028.5</td>\n",
              "      <td>1024.6</td>\n",
              "      <td>2</td>\n",
              "      <td>2</td>\n",
              "      <td>11.0</td>\n",
              "      <td>18.7</td>\n",
              "      <td>No</td>\n",
              "      <td>No</td>\n",
              "    </tr>\n",
              "    <tr>\n",
              "      <th>3268</th>\n",
              "      <td>6/23/2017</td>\n",
              "      <td>9.4</td>\n",
              "      <td>17.7</td>\n",
              "      <td>0.0</td>\n",
              "      <td>2.4</td>\n",
              "      <td>2.7</td>\n",
              "      <td>W</td>\n",
              "      <td>24</td>\n",
              "      <td>WNW</td>\n",
              "      <td>N</td>\n",
              "      <td>...</td>\n",
              "      <td>85</td>\n",
              "      <td>56</td>\n",
              "      <td>1020.8</td>\n",
              "      <td>1015.0</td>\n",
              "      <td>6</td>\n",
              "      <td>6</td>\n",
              "      <td>10.2</td>\n",
              "      <td>17.3</td>\n",
              "      <td>No</td>\n",
              "      <td>No</td>\n",
              "    </tr>\n",
              "    <tr>\n",
              "      <th>3269</th>\n",
              "      <td>6/24/2017</td>\n",
              "      <td>10.1</td>\n",
              "      <td>19.3</td>\n",
              "      <td>0.0</td>\n",
              "      <td>1.4</td>\n",
              "      <td>9.3</td>\n",
              "      <td>W</td>\n",
              "      <td>43</td>\n",
              "      <td>W</td>\n",
              "      <td>W</td>\n",
              "      <td>...</td>\n",
              "      <td>56</td>\n",
              "      <td>35</td>\n",
              "      <td>1017.3</td>\n",
              "      <td>1015.1</td>\n",
              "      <td>5</td>\n",
              "      <td>2</td>\n",
              "      <td>12.4</td>\n",
              "      <td>19.0</td>\n",
              "      <td>No</td>\n",
              "      <td>No</td>\n",
              "    </tr>\n",
              "    <tr>\n",
              "      <th>3270</th>\n",
              "      <td>6/25/2017</td>\n",
              "      <td>7.6</td>\n",
              "      <td>19.3</td>\n",
              "      <td>0.0</td>\n",
              "      <td>3.4</td>\n",
              "      <td>9.4</td>\n",
              "      <td>W</td>\n",
              "      <td>35</td>\n",
              "      <td>W</td>\n",
              "      <td>W</td>\n",
              "      <td>...</td>\n",
              "      <td>73</td>\n",
              "      <td>32</td>\n",
              "      <td>1018.6</td>\n",
              "      <td>1015.4</td>\n",
              "      <td>1</td>\n",
              "      <td>1</td>\n",
              "      <td>9.4</td>\n",
              "      <td>18.8</td>\n",
              "      <td>No</td>\n",
              "      <td>No</td>\n",
              "    </tr>\n",
              "  </tbody>\n",
              "</table>\n",
              "<p>3271 rows × 22 columns</p>\n",
              "</div>"
            ],
            "text/plain": [
              "           Date  MinTemp  MaxTemp  Rainfall  Evaporation  Sunshine  \\\n",
              "0      2/1/2008     19.5     22.4      15.6          6.2       0.0   \n",
              "1      2/2/2008     19.5     25.6       6.0          3.4       2.7   \n",
              "2      2/3/2008     21.6     24.5       6.6          2.4       0.1   \n",
              "3      2/4/2008     20.2     22.8      18.8          2.2       0.0   \n",
              "4      2/5/2008     19.7     25.7      77.4          4.8       0.0   \n",
              "...         ...      ...      ...       ...          ...       ...   \n",
              "3266  6/21/2017      8.6     19.6       0.0          2.0       7.8   \n",
              "3267  6/22/2017      9.3     19.2       0.0          2.0       9.2   \n",
              "3268  6/23/2017      9.4     17.7       0.0          2.4       2.7   \n",
              "3269  6/24/2017     10.1     19.3       0.0          1.4       9.3   \n",
              "3270  6/25/2017      7.6     19.3       0.0          3.4       9.4   \n",
              "\n",
              "     WindGustDir  WindGustSpeed WindDir9am WindDir3pm  ...  Humidity9am  \\\n",
              "0              W             41          S        SSW  ...           92   \n",
              "1              W             41          W          E  ...           83   \n",
              "2              W             41        ESE        ESE  ...           88   \n",
              "3              W             41        NNE          E  ...           83   \n",
              "4              W             41        NNE          W  ...           88   \n",
              "...          ...            ...        ...        ...  ...          ...   \n",
              "3266         SSE             37          W        SSE  ...           73   \n",
              "3267           W             30          W        ESE  ...           78   \n",
              "3268           W             24        WNW          N  ...           85   \n",
              "3269           W             43          W          W  ...           56   \n",
              "3270           W             35          W          W  ...           73   \n",
              "\n",
              "      Humidity3pm  Pressure9am  Pressure3pm  Cloud9am  Cloud3pm  Temp9am  \\\n",
              "0              84       1017.6       1017.4         8         8     20.7   \n",
              "1              73       1017.9       1016.4         7         7     22.4   \n",
              "2              86       1016.7       1015.6         7         8     23.5   \n",
              "3              90       1014.2       1011.8         8         8     21.4   \n",
              "4              74       1008.3       1004.8         8         8     22.5   \n",
              "...           ...          ...          ...       ...       ...      ...   \n",
              "3266           52       1025.9       1025.3         2         2     10.5   \n",
              "3267           53       1028.5       1024.6         2         2     11.0   \n",
              "3268           56       1020.8       1015.0         6         6     10.2   \n",
              "3269           35       1017.3       1015.1         5         2     12.4   \n",
              "3270           32       1018.6       1015.4         1         1      9.4   \n",
              "\n",
              "      Temp3pm  RainToday  RainTomorrow  \n",
              "0        20.9        Yes           Yes  \n",
              "1        24.8        Yes           Yes  \n",
              "2        23.0        Yes           Yes  \n",
              "3        20.9        Yes           Yes  \n",
              "4        25.5        Yes           Yes  \n",
              "...       ...        ...           ...  \n",
              "3266     17.9         No            No  \n",
              "3267     18.7         No            No  \n",
              "3268     17.3         No            No  \n",
              "3269     19.0         No            No  \n",
              "3270     18.8         No            No  \n",
              "\n",
              "[3271 rows x 22 columns]"
            ]
          },
          "execution_count": 50,
          "metadata": {},
          "output_type": "execute_result"
        }
      ],
      "source": [
        "df"
      ]
    },
    {
      "cell_type": "code",
      "execution_count": null,
      "metadata": {
        "trusted": true
      },
      "outputs": [
        {
          "name": "stdout",
          "output_type": "stream",
          "text": [
            "<class 'pandas.core.frame.DataFrame'>\n",
            "RangeIndex: 3271 entries, 0 to 3270\n",
            "Data columns (total 22 columns):\n",
            " #   Column         Non-Null Count  Dtype  \n",
            "---  ------         --------------  -----  \n",
            " 0   Date           3271 non-null   object \n",
            " 1   MinTemp        3271 non-null   float64\n",
            " 2   MaxTemp        3271 non-null   float64\n",
            " 3   Rainfall       3271 non-null   float64\n",
            " 4   Evaporation    3271 non-null   float64\n",
            " 5   Sunshine       3271 non-null   float64\n",
            " 6   WindGustDir    3271 non-null   object \n",
            " 7   WindGustSpeed  3271 non-null   int64  \n",
            " 8   WindDir9am     3271 non-null   object \n",
            " 9   WindDir3pm     3271 non-null   object \n",
            " 10  WindSpeed9am   3271 non-null   int64  \n",
            " 11  WindSpeed3pm   3271 non-null   int64  \n",
            " 12  Humidity9am    3271 non-null   int64  \n",
            " 13  Humidity3pm    3271 non-null   int64  \n",
            " 14  Pressure9am    3271 non-null   float64\n",
            " 15  Pressure3pm    3271 non-null   float64\n",
            " 16  Cloud9am       3271 non-null   int64  \n",
            " 17  Cloud3pm       3271 non-null   int64  \n",
            " 18  Temp9am        3271 non-null   float64\n",
            " 19  Temp3pm        3271 non-null   float64\n",
            " 20  RainToday      3271 non-null   object \n",
            " 21  RainTomorrow   3271 non-null   object \n",
            "dtypes: float64(9), int64(7), object(6)\n",
            "memory usage: 485.6+ KB\n",
            "None\n",
            "           MinTemp      MaxTemp     Rainfall  Evaporation     Sunshine  \\\n",
            "count  3271.000000  3271.000000  3271.000000  3271.000000  3271.000000   \n",
            "mean     14.877102    23.005564     3.342158     5.175787     7.168970   \n",
            "std       4.554710     4.483752     9.917746     2.757684     3.815966   \n",
            "min       4.300000    11.700000     0.000000     0.000000     0.000000   \n",
            "25%      11.000000    19.600000     0.000000     3.200000     4.250000   \n",
            "50%      14.900000    22.800000     0.000000     4.800000     8.300000   \n",
            "75%      18.800000    26.000000     1.400000     7.000000    10.200000   \n",
            "max      27.600000    45.800000   119.400000    18.400000    13.600000   \n",
            "\n",
            "       WindGustSpeed  WindSpeed9am  WindSpeed3pm  Humidity9am  Humidity3pm  \\\n",
            "count    3271.000000   3271.000000   3271.000000  3271.000000  3271.000000   \n",
            "mean       41.476307     15.077041     19.294405    68.243962    54.698563   \n",
            "std        10.806951      7.043825      7.453331    15.086127    16.279241   \n",
            "min        17.000000      0.000000      0.000000    19.000000    10.000000   \n",
            "25%        35.000000     11.000000     15.000000    58.000000    44.000000   \n",
            "50%        41.000000     15.000000     19.000000    69.000000    56.000000   \n",
            "75%        44.000000     20.000000     24.000000    80.000000    64.000000   \n",
            "max        96.000000     54.000000     57.000000   100.000000    99.000000   \n",
            "\n",
            "       Pressure9am  Pressure3pm     Cloud9am     Cloud3pm      Temp9am  \\\n",
            "count  3271.000000  3271.000000  3271.000000  3271.000000  3271.000000   \n",
            "mean   1018.334424  1016.003085     4.318557     4.176093    17.821461   \n",
            "std       7.020090     7.019915     2.526923     2.411274     4.894316   \n",
            "min     986.700000   989.800000     0.000000     0.000000     6.400000   \n",
            "25%    1013.700000  1011.300000     2.000000     2.000000    13.800000   \n",
            "50%    1018.600000  1016.300000     5.000000     4.000000    18.200000   \n",
            "75%    1023.100000  1020.800000     7.000000     7.000000    21.700000   \n",
            "max    1039.000000  1036.700000     9.000000     8.000000    36.500000   \n",
            "\n",
            "           Temp3pm  \n",
            "count  3271.000000  \n",
            "mean     21.543656  \n",
            "std       4.297053  \n",
            "min      10.200000  \n",
            "25%      18.400000  \n",
            "50%      21.300000  \n",
            "75%      24.500000  \n",
            "max      44.700000  \n",
            "Date             0\n",
            "MinTemp          0\n",
            "MaxTemp          0\n",
            "Rainfall         0\n",
            "Evaporation      0\n",
            "Sunshine         0\n",
            "WindGustDir      0\n",
            "WindGustSpeed    0\n",
            "WindDir9am       0\n",
            "WindDir3pm       0\n",
            "WindSpeed9am     0\n",
            "WindSpeed3pm     0\n",
            "Humidity9am      0\n",
            "Humidity3pm      0\n",
            "Pressure9am      0\n",
            "Pressure3pm      0\n",
            "Cloud9am         0\n",
            "Cloud3pm         0\n",
            "Temp9am          0\n",
            "Temp3pm          0\n",
            "RainToday        0\n",
            "RainTomorrow     0\n",
            "dtype: int64\n"
          ]
        }
      ],
      "source": [
        "\n",
        "\n",
        "print(df.info())\n",
        "\n",
        "\n",
        "print(df.describe())\n",
        "\n",
        "\n",
        "print(df.isnull().sum())\n"
      ]
    },
    {
      "cell_type": "code",
      "execution_count": null,
      "metadata": {
        "trusted": true
      },
      "outputs": [
        {
          "name": "stdout",
          "output_type": "stream",
          "text": [
            "Series([], dtype: int64)\n"
          ]
        }
      ],
      "source": [
        "\n",
        "missing_values = df.isnull().sum()\n",
        "missing_values = missing_values[missing_values > 0]\n",
        "print(missing_values)"
      ]
    },
    {
      "cell_type": "code",
      "execution_count": null,
      "metadata": {
        "trusted": true
      },
      "outputs": [
        {
          "data": {
            "image/png": "[encoded data removed]",
            "text/plain": [
              "<Figure size 640x480 with 1 Axes>"
            ]
          },
          "metadata": {},
          "output_type": "display_data"
        },
        {
          "name": "stdout",
          "output_type": "stream",
          "text": [
            "RainTomorrow\n",
            "No     0.740446\n",
            "Yes    0.259554\n",
            "Name: proportion, dtype: float64\n"
          ]
        }
      ],
      "source": [
        "import matplotlib.pyplot as plt\n",
        "import seaborn as sns\n",
        "\n",
        "\n",
        "sns.countplot(x=df[\"RainTomorrow\"], palette=\"coolwarm\")\n",
        "plt.title(\"RainTomorrow Class Distribution\")\n",
        "plt.show()\n",
        "\n",
        "\n",
        "print(df[\"RainTomorrow\"].value_counts(normalize=True))"
      ]
    },
    {
      "cell_type": "code",
      "execution_count": 85,
      "metadata": {
        "trusted": true
      },
      "outputs": [
        {
          "data": {
            "image/png": "[encoded data removed]",
            "text/plain": [
              "<Figure size 1200x800 with 2 Axes>"
            ]
          },
          "metadata": {},
          "output_type": "display_data"
        },
        {
          "data": {
            "text/html": [
              "<div>\n",
              "<style scoped>\n",
              "    .dataframe tbody tr th:only-of-type {\n",
              "        vertical-align: middle;\n",
              "    }\n",
              "\n",
              "    .dataframe tbody tr th {\n",
              "        vertical-align: top;\n",
              "    }\n",
              "\n",
              "    .dataframe thead th {\n",
              "        text-align: right;\n",
              "    }\n",
              "</style>\n",
              "<table border=\"1\" class=\"dataframe\">\n",
              "  <thead>\n",
              "    <tr style=\"text-align: right;\">\n",
              "      <th></th>\n",
              "      <th>MinTemp</th>\n",
              "      <th>MaxTemp</th>\n",
              "      <th>Rainfall</th>\n",
              "      <th>Evaporation</th>\n",
              "      <th>Sunshine</th>\n",
              "      <th>WindGustSpeed</th>\n",
              "      <th>WindSpeed9am</th>\n",
              "      <th>WindSpeed3pm</th>\n",
              "      <th>Humidity9am</th>\n",
              "      <th>Humidity3pm</th>\n",
              "      <th>...</th>\n",
              "      <th>WindDir3pm_NNW</th>\n",
              "      <th>WindDir3pm_NW</th>\n",
              "      <th>WindDir3pm_S</th>\n",
              "      <th>WindDir3pm_SE</th>\n",
              "      <th>WindDir3pm_SSE</th>\n",
              "      <th>WindDir3pm_SSW</th>\n",
              "      <th>WindDir3pm_SW</th>\n",
              "      <th>WindDir3pm_W</th>\n",
              "      <th>WindDir3pm_WNW</th>\n",
              "      <th>WindDir3pm_WSW</th>\n",
              "    </tr>\n",
              "  </thead>\n",
              "  <tbody>\n",
              "    <tr>\n",
              "      <th>MinTemp</th>\n",
              "      <td>1.000000</td>\n",
              "      <td>0.771005</td>\n",
              "      <td>0.013995</td>\n",
              "      <td>0.569316</td>\n",
              "      <td>-0.063475</td>\n",
              "      <td>0.127792</td>\n",
              "      <td>-0.298040</td>\n",
              "      <td>0.225905</td>\n",
              "      <td>0.053946</td>\n",
              "      <td>0.273269</td>\n",
              "      <td>...</td>\n",
              "      <td>-0.006096</td>\n",
              "      <td>-0.057882</td>\n",
              "      <td>-0.075180</td>\n",
              "      <td>0.071836</td>\n",
              "      <td>0.025171</td>\n",
              "      <td>-0.131773</td>\n",
              "      <td>-0.074196</td>\n",
              "      <td>-0.165429</td>\n",
              "      <td>-0.129172</td>\n",
              "      <td>-0.135055</td>\n",
              "    </tr>\n",
              "    <tr>\n",
              "      <th>MaxTemp</th>\n",
              "      <td>0.771005</td>\n",
              "      <td>1.000000</td>\n",
              "      <td>-0.139306</td>\n",
              "      <td>0.510334</td>\n",
              "      <td>0.327422</td>\n",
              "      <td>0.073184</td>\n",
              "      <td>-0.349382</td>\n",
              "      <td>0.155542</td>\n",
              "      <td>-0.185382</td>\n",
              "      <td>-0.150741</td>\n",
              "      <td>...</td>\n",
              "      <td>0.058478</td>\n",
              "      <td>-0.001910</td>\n",
              "      <td>-0.151647</td>\n",
              "      <td>0.008442</td>\n",
              "      <td>-0.050886</td>\n",
              "      <td>-0.213966</td>\n",
              "      <td>-0.087241</td>\n",
              "      <td>-0.114668</td>\n",
              "      <td>-0.017097</td>\n",
              "      <td>-0.108176</td>\n",
              "    </tr>\n",
              "    <tr>\n",
              "      <th>Rainfall</th>\n",
              "      <td>0.013995</td>\n",
              "      <td>-0.139306</td>\n",
              "      <td>1.000000</td>\n",
              "      <td>-0.110343</td>\n",
              "      <td>-0.308962</td>\n",
              "      <td>0.149811</td>\n",
              "      <td>0.153696</td>\n",
              "      <td>0.039415</td>\n",
              "      <td>0.332636</td>\n",
              "      <td>0.305635</td>\n",
              "      <td>...</td>\n",
              "      <td>-0.020313</td>\n",
              "      <td>-0.017927</td>\n",
              "      <td>0.096411</td>\n",
              "      <td>0.044433</td>\n",
              "      <td>0.053711</td>\n",
              "      <td>0.112996</td>\n",
              "      <td>0.036072</td>\n",
              "      <td>-0.034273</td>\n",
              "      <td>-0.049959</td>\n",
              "      <td>0.020607</td>\n",
              "    </tr>\n",
              "    <tr>\n",
              "      <th>Evaporation</th>\n",
              "      <td>0.569316</td>\n",
              "      <td>0.510334</td>\n",
              "      <td>-0.110343</td>\n",
              "      <td>1.000000</td>\n",
              "      <td>0.175932</td>\n",
              "      <td>0.245426</td>\n",
              "      <td>-0.077532</td>\n",
              "      <td>0.292469</td>\n",
              "      <td>-0.395651</td>\n",
              "      <td>-0.102295</td>\n",
              "      <td>...</td>\n",
              "      <td>-0.016018</td>\n",
              "      <td>-0.047131</td>\n",
              "      <td>-0.051291</td>\n",
              "      <td>0.069001</td>\n",
              "      <td>0.031471</td>\n",
              "      <td>-0.101030</td>\n",
              "      <td>-0.051831</td>\n",
              "      <td>-0.062852</td>\n",
              "      <td>-0.072257</td>\n",
              "      <td>-0.007111</td>\n",
              "    </tr>\n",
              "    <tr>\n",
              "      <th>Sunshine</th>\n",
              "      <td>-0.063475</td>\n",
              "      <td>0.327422</td>\n",
              "      <td>-0.308962</td>\n",
              "      <td>0.175932</td>\n",
              "      <td>1.000000</td>\n",
              "      <td>-0.029032</td>\n",
              "      <td>-0.058410</td>\n",
              "      <td>0.177813</td>\n",
              "      <td>-0.490631</td>\n",
              "      <td>-0.586476</td>\n",
              "      <td>...</td>\n",
              "      <td>-0.013700</td>\n",
              "      <td>-0.004798</td>\n",
              "      <td>-0.115154</td>\n",
              "      <td>-0.065347</td>\n",
              "      <td>-0.091772</td>\n",
              "      <td>-0.168845</td>\n",
              "      <td>-0.059655</td>\n",
              "      <td>0.033344</td>\n",
              "      <td>0.066551</td>\n",
              "      <td>0.041486</td>\n",
              "    </tr>\n",
              "    <tr>\n",
              "      <th>...</th>\n",
              "      <td>...</td>\n",
              "      <td>...</td>\n",
              "      <td>...</td>\n",
              "      <td>...</td>\n",
              "      <td>...</td>\n",
              "      <td>...</td>\n",
              "      <td>...</td>\n",
              "      <td>...</td>\n",
              "      <td>...</td>\n",
              "      <td>...</td>\n",
              "      <td>...</td>\n",
              "      <td>...</td>\n",
              "      <td>...</td>\n",
              "      <td>...</td>\n",
              "      <td>...</td>\n",
              "      <td>...</td>\n",
              "      <td>...</td>\n",
              "      <td>...</td>\n",
              "      <td>...</td>\n",
              "      <td>...</td>\n",
              "      <td>...</td>\n",
              "    </tr>\n",
              "    <tr>\n",
              "      <th>WindDir3pm_SSW</th>\n",
              "      <td>-0.131773</td>\n",
              "      <td>-0.213966</td>\n",
              "      <td>0.112996</td>\n",
              "      <td>-0.101030</td>\n",
              "      <td>-0.168845</td>\n",
              "      <td>0.096481</td>\n",
              "      <td>0.137927</td>\n",
              "      <td>0.033670</td>\n",
              "      <td>0.082297</td>\n",
              "      <td>0.131597</td>\n",
              "      <td>...</td>\n",
              "      <td>-0.023685</td>\n",
              "      <td>-0.029608</td>\n",
              "      <td>-0.062162</td>\n",
              "      <td>-0.057801</td>\n",
              "      <td>-0.066055</td>\n",
              "      <td>1.000000</td>\n",
              "      <td>-0.024613</td>\n",
              "      <td>-0.055899</td>\n",
              "      <td>-0.053182</td>\n",
              "      <td>-0.040944</td>\n",
              "    </tr>\n",
              "    <tr>\n",
              "      <th>WindDir3pm_SW</th>\n",
              "      <td>-0.074196</td>\n",
              "      <td>-0.087241</td>\n",
              "      <td>0.036072</td>\n",
              "      <td>-0.051831</td>\n",
              "      <td>-0.059655</td>\n",
              "      <td>0.067767</td>\n",
              "      <td>0.077584</td>\n",
              "      <td>-0.031000</td>\n",
              "      <td>0.001275</td>\n",
              "      <td>-0.019017</td>\n",
              "      <td>...</td>\n",
              "      <td>-0.012215</td>\n",
              "      <td>-0.015270</td>\n",
              "      <td>-0.032058</td>\n",
              "      <td>-0.029809</td>\n",
              "      <td>-0.034066</td>\n",
              "      <td>-0.024613</td>\n",
              "      <td>1.000000</td>\n",
              "      <td>-0.028828</td>\n",
              "      <td>-0.027427</td>\n",
              "      <td>-0.021116</td>\n",
              "    </tr>\n",
              "    <tr>\n",
              "      <th>WindDir3pm_W</th>\n",
              "      <td>-0.165429</td>\n",
              "      <td>-0.114668</td>\n",
              "      <td>-0.034273</td>\n",
              "      <td>-0.062852</td>\n",
              "      <td>0.033344</td>\n",
              "      <td>0.100644</td>\n",
              "      <td>0.096074</td>\n",
              "      <td>0.096827</td>\n",
              "      <td>-0.134868</td>\n",
              "      <td>-0.235915</td>\n",
              "      <td>...</td>\n",
              "      <td>-0.027741</td>\n",
              "      <td>-0.034679</td>\n",
              "      <td>-0.072808</td>\n",
              "      <td>-0.067700</td>\n",
              "      <td>-0.077368</td>\n",
              "      <td>-0.055899</td>\n",
              "      <td>-0.028828</td>\n",
              "      <td>1.000000</td>\n",
              "      <td>-0.062290</td>\n",
              "      <td>-0.047956</td>\n",
              "    </tr>\n",
              "    <tr>\n",
              "      <th>WindDir3pm_WNW</th>\n",
              "      <td>-0.129172</td>\n",
              "      <td>-0.017097</td>\n",
              "      <td>-0.049959</td>\n",
              "      <td>-0.072257</td>\n",
              "      <td>0.066551</td>\n",
              "      <td>0.063259</td>\n",
              "      <td>0.055324</td>\n",
              "      <td>-0.031216</td>\n",
              "      <td>-0.139134</td>\n",
              "      <td>-0.277288</td>\n",
              "      <td>...</td>\n",
              "      <td>-0.026392</td>\n",
              "      <td>-0.032993</td>\n",
              "      <td>-0.069268</td>\n",
              "      <td>-0.064409</td>\n",
              "      <td>-0.073607</td>\n",
              "      <td>-0.053182</td>\n",
              "      <td>-0.027427</td>\n",
              "      <td>-0.062290</td>\n",
              "      <td>1.000000</td>\n",
              "      <td>-0.045625</td>\n",
              "    </tr>\n",
              "    <tr>\n",
              "      <th>WindDir3pm_WSW</th>\n",
              "      <td>-0.135055</td>\n",
              "      <td>-0.108176</td>\n",
              "      <td>0.020607</td>\n",
              "      <td>-0.007111</td>\n",
              "      <td>0.041486</td>\n",
              "      <td>0.131907</td>\n",
              "      <td>0.124057</td>\n",
              "      <td>0.051958</td>\n",
              "      <td>-0.137359</td>\n",
              "      <td>-0.196635</td>\n",
              "      <td>...</td>\n",
              "      <td>-0.020319</td>\n",
              "      <td>-0.025401</td>\n",
              "      <td>-0.053329</td>\n",
              "      <td>-0.049588</td>\n",
              "      <td>-0.056670</td>\n",
              "      <td>-0.040944</td>\n",
              "      <td>-0.021116</td>\n",
              "      <td>-0.047956</td>\n",
              "      <td>-0.045625</td>\n",
              "      <td>1.000000</td>\n",
              "    </tr>\n",
              "  </tbody>\n",
              "</table>\n",
              "<p>67 rows × 67 columns</p>\n",
              "</div>"
            ],
            "text/plain": [
              "                 MinTemp   MaxTemp  Rainfall  Evaporation  Sunshine  \\\n",
              "MinTemp         1.000000  0.771005  0.013995     0.569316 -0.063475   \n",
              "MaxTemp         0.771005  1.000000 -0.139306     0.510334  0.327422   \n",
              "Rainfall        0.013995 -0.139306  1.000000    -0.110343 -0.308962   \n",
              "Evaporation     0.569316  0.510334 -0.110343     1.000000  0.175932   \n",
              "Sunshine       -0.063475  0.327422 -0.308962     0.175932  1.000000   \n",
              "...                  ...       ...       ...          ...       ...   \n",
              "WindDir3pm_SSW -0.131773 -0.213966  0.112996    -0.101030 -0.168845   \n",
              "WindDir3pm_SW  -0.074196 -0.087241  0.036072    -0.051831 -0.059655   \n",
              "WindDir3pm_W   -0.165429 -0.114668 -0.034273    -0.062852  0.033344   \n",
              "WindDir3pm_WNW -0.129172 -0.017097 -0.049959    -0.072257  0.066551   \n",
              "WindDir3pm_WSW -0.135055 -0.108176  0.020607    -0.007111  0.041486   \n",
              "\n",
              "                WindGustSpeed  WindSpeed9am  WindSpeed3pm  Humidity9am  \\\n",
              "MinTemp              0.127792     -0.298040      0.225905     0.053946   \n",
              "MaxTemp              0.073184     -0.349382      0.155542    -0.185382   \n",
              "Rainfall             0.149811      0.153696      0.039415     0.332636   \n",
              "Evaporation          0.245426     -0.077532      0.292469    -0.395651   \n",
              "Sunshine            -0.029032     -0.058410      0.177813    -0.490631   \n",
              "...                       ...           ...           ...          ...   \n",
              "WindDir3pm_SSW       0.096481      0.137927      0.033670     0.082297   \n",
              "WindDir3pm_SW        0.067767      0.077584     -0.031000     0.001275   \n",
              "WindDir3pm_W         0.100644      0.096074      0.096827    -0.134868   \n",
              "WindDir3pm_WNW       0.063259      0.055324     -0.031216    -0.139134   \n",
              "WindDir3pm_WSW       0.131907      0.124057      0.051958    -0.137359   \n",
              "\n",
              "                Humidity3pm  ...  WindDir3pm_NNW  WindDir3pm_NW  WindDir3pm_S  \\\n",
              "MinTemp            0.273269  ...       -0.006096      -0.057882     -0.075180   \n",
              "MaxTemp           -0.150741  ...        0.058478      -0.001910     -0.151647   \n",
              "Rainfall           0.305635  ...       -0.020313      -0.017927      0.096411   \n",
              "Evaporation       -0.102295  ...       -0.016018      -0.047131     -0.051291   \n",
              "Sunshine          -0.586476  ...       -0.013700      -0.004798     -0.115154   \n",
              "...                     ...  ...             ...            ...           ...   \n",
              "WindDir3pm_SSW     0.131597  ...       -0.023685      -0.029608     -0.062162   \n",
              "WindDir3pm_SW     -0.019017  ...       -0.012215      -0.015270     -0.032058   \n",
              "WindDir3pm_W      -0.235915  ...       -0.027741      -0.034679     -0.072808   \n",
              "WindDir3pm_WNW    -0.277288  ...       -0.026392      -0.032993     -0.069268   \n",
              "WindDir3pm_WSW    -0.196635  ...       -0.020319      -0.025401     -0.053329   \n",
              "\n",
              "                WindDir3pm_SE  WindDir3pm_SSE  WindDir3pm_SSW  WindDir3pm_SW  \\\n",
              "MinTemp              0.071836        0.025171       -0.131773      -0.074196   \n",
              "MaxTemp              0.008442       -0.050886       -0.213966      -0.087241   \n",
              "Rainfall             0.044433        0.053711        0.112996       0.036072   \n",
              "Evaporation          0.069001        0.031471       -0.101030      -0.051831   \n",
              "Sunshine            -0.065347       -0.091772       -0.168845      -0.059655   \n",
              "...                       ...             ...             ...            ...   \n",
              "WindDir3pm_SSW      -0.057801       -0.066055        1.000000      -0.024613   \n",
              "WindDir3pm_SW       -0.029809       -0.034066       -0.024613       1.000000   \n",
              "WindDir3pm_W        -0.067700       -0.077368       -0.055899      -0.028828   \n",
              "WindDir3pm_WNW      -0.064409       -0.073607       -0.053182      -0.027427   \n",
              "WindDir3pm_WSW      -0.049588       -0.056670       -0.040944      -0.021116   \n",
              "\n",
              "                WindDir3pm_W  WindDir3pm_WNW  WindDir3pm_WSW  \n",
              "MinTemp            -0.165429       -0.129172       -0.135055  \n",
              "MaxTemp            -0.114668       -0.017097       -0.108176  \n",
              "Rainfall           -0.034273       -0.049959        0.020607  \n",
              "Evaporation        -0.062852       -0.072257       -0.007111  \n",
              "Sunshine            0.033344        0.066551        0.041486  \n",
              "...                      ...             ...             ...  \n",
              "WindDir3pm_SSW     -0.055899       -0.053182       -0.040944  \n",
              "WindDir3pm_SW      -0.028828       -0.027427       -0.021116  \n",
              "WindDir3pm_W        1.000000       -0.062290       -0.047956  \n",
              "WindDir3pm_WNW     -0.062290        1.000000       -0.045625  \n",
              "WindDir3pm_WSW     -0.047956       -0.045625        1.000000  \n",
              "\n",
              "[67 rows x 67 columns]"
            ]
          },
          "execution_count": 85,
          "metadata": {},
          "output_type": "execute_result"
        }
      ],
      "source": [
        "plt.figure(figsize=(12, 8))\n",
        "sns.heatmap(df_sydney_processed.corr(), cmap=\"coolwarm\", annot=False)\n",
        "plt.title(\"Feature Correlation Heatmap\")\n",
        "plt.show()\n",
        "df_sydney_processed.corr()"
      ]
    },
    {
      "cell_type": "code",
      "execution_count": null,
      "metadata": {
        "trusted": true
      },
      "outputs": [
        {
          "data": {
            "text/html": [
              "<div>\n",
              "<style scoped>\n",
              "    .dataframe tbody tr th:only-of-type {\n",
              "        vertical-align: middle;\n",
              "    }\n",
              "\n",
              "    .dataframe tbody tr th {\n",
              "        vertical-align: top;\n",
              "    }\n",
              "\n",
              "    .dataframe thead th {\n",
              "        text-align: right;\n",
              "    }\n",
              "</style>\n",
              "<table border=\"1\" class=\"dataframe\">\n",
              "  <thead>\n",
              "    <tr style=\"text-align: right;\">\n",
              "      <th></th>\n",
              "      <th>RainTomorrow</th>\n",
              "    </tr>\n",
              "  </thead>\n",
              "  <tbody>\n",
              "    <tr>\n",
              "      <th>MinTemp</th>\n",
              "      <td>0.082804</td>\n",
              "    </tr>\n",
              "    <tr>\n",
              "      <th>MaxTemp</th>\n",
              "      <td>-0.152525</td>\n",
              "    </tr>\n",
              "    <tr>\n",
              "      <th>Rainfall</th>\n",
              "      <td>0.296120</td>\n",
              "    </tr>\n",
              "    <tr>\n",
              "      <th>Evaporation</th>\n",
              "      <td>-0.070145</td>\n",
              "    </tr>\n",
              "    <tr>\n",
              "      <th>Sunshine</th>\n",
              "      <td>-0.529112</td>\n",
              "    </tr>\n",
              "    <tr>\n",
              "      <th>...</th>\n",
              "      <td>...</td>\n",
              "    </tr>\n",
              "    <tr>\n",
              "      <th>WindDir3pm_SSW</th>\n",
              "      <td>0.171661</td>\n",
              "    </tr>\n",
              "    <tr>\n",
              "      <th>WindDir3pm_SW</th>\n",
              "      <td>0.046124</td>\n",
              "    </tr>\n",
              "    <tr>\n",
              "      <th>WindDir3pm_W</th>\n",
              "      <td>-0.046956</td>\n",
              "    </tr>\n",
              "    <tr>\n",
              "      <th>WindDir3pm_WNW</th>\n",
              "      <td>-0.095579</td>\n",
              "    </tr>\n",
              "    <tr>\n",
              "      <th>WindDir3pm_WSW</th>\n",
              "      <td>-0.037785</td>\n",
              "    </tr>\n",
              "  </tbody>\n",
              "</table>\n",
              "<p>67 rows × 1 columns</p>\n",
              "</div>"
            ],
            "text/plain": [
              "                RainTomorrow\n",
              "MinTemp             0.082804\n",
              "MaxTemp            -0.152525\n",
              "Rainfall            0.296120\n",
              "Evaporation        -0.070145\n",
              "Sunshine           -0.529112\n",
              "...                      ...\n",
              "WindDir3pm_SSW      0.171661\n",
              "WindDir3pm_SW       0.046124\n",
              "WindDir3pm_W       -0.046956\n",
              "WindDir3pm_WNW     -0.095579\n",
              "WindDir3pm_WSW     -0.037785\n",
              "\n",
              "[67 rows x 1 columns]"
            ]
          },
          "execution_count": 88,
          "metadata": {},
          "output_type": "execute_result"
        }
      ],
      "source": [
        "\n",
        "corr_matrix = df_sydney_processed.corr()\n",
        "corr_matrix[['RainTomorrow']]"
      ]
    },
    {
      "cell_type": "code",
      "execution_count": 11,
      "metadata": {
        "trusted": true
      },
      "outputs": [],
      "source": [
        "df_sydney_processed = pd.get_dummies(data=df, columns=['RainToday', 'WindGustDir', 'WindDir9am', 'WindDir3pm'])"
      ]
    },
    {
      "cell_type": "code",
      "execution_count": 12,
      "metadata": {
        "trusted": true
      },
      "outputs": [],
      "source": [
        "df_sydney_processed.replace(['No', 'Yes'], [0,1], inplace=True)"
      ]
    },
    {
      "cell_type": "code",
      "execution_count": 13,
      "metadata": {
        "trusted": true
      },
      "outputs": [],
      "source": [
        "df_sydney_processed.drop('Date',axis=1,inplace=True)"
      ]
    },
    {
      "cell_type": "code",
      "execution_count": 14,
      "metadata": {
        "trusted": true
      },
      "outputs": [],
      "source": [
        "df_sydney_processed = df_sydney_processed.astype(float)"
      ]
    },
    {
      "cell_type": "code",
      "execution_count": 15,
      "metadata": {
        "trusted": true
      },
      "outputs": [],
      "source": [
        "features = df_sydney_processed.drop(columns='RainTomorrow', axis=1)\n",
        "Y = df_sydney_processed['RainTomorrow']"
      ]
    },
    {
      "cell_type": "markdown",
      "metadata": {},
      "source": [
        "### Linear Regression\n"
      ]
    },
    {
      "cell_type": "code",
      "execution_count": null,
      "metadata": {
        "trusted": true
      },
      "outputs": [
        {
          "name": "stdout",
          "output_type": "stream",
          "text": [
            "Training Features Shape: (2616, 66)\n",
            "Testing Features Shape: (655, 66)\n",
            "Training Labels Shape: (2616,)\n",
            "Testing Labels Shape: (655,)\n"
          ]
        }
      ],
      "source": [
        "\n",
        "X = features\n",
        "from sklearn.model_selection import train_test_split\n",
        "\n",
        "\n",
        "X_train, X_test, Y_train, Y_test = train_test_split(X, Y, test_size=0.2, random_state=10)\n",
        "\n",
        "\n",
        "print(\"Training Features Shape:\", X_train.shape)\n",
        "print(\"Testing Features Shape:\", X_test.shape)\n",
        "print(\"Training Labels Shape:\", Y_train.shape)\n",
        "print(\"Testing Labels Shape:\", Y_test.shape)\n"
      ]
    },
    {
      "cell_type": "code",
      "execution_count": null,
      "metadata": {
        "trusted": true
      },
      "outputs": [],
      "source": [
        "\n",
        "from sklearn.linear_model import LinearRegression"
      ]
    },
    {
      "cell_type": "code",
      "execution_count": null,
      "metadata": {
        "trusted": true
      },
      "outputs": [
        {
          "name": "stdout",
          "output_type": "stream",
          "text": [
            "Intercept: 1139274582.2150812\n",
            "Coefficients: [-2.36883601e-02  1.30031554e-02  7.30154915e-04  6.49290860e-03\n",
            " -3.51614515e-02  4.23841910e-03  1.82843563e-03  7.89794445e-04\n",
            "  9.55888360e-04  8.56007751e-03  7.70261345e-03 -9.24932344e-03\n",
            " -8.87528023e-03  1.00457553e-02  1.44651992e-02 -3.48325241e-03\n",
            "  1.03190076e+10  1.03190076e+10 -4.35428535e+09 -4.35428535e+09\n",
            " -4.35428535e+09 -4.35428535e+09 -4.35428535e+09 -4.35428535e+09\n",
            " -4.35428535e+09 -4.35428535e+09 -4.35428535e+09 -4.35428535e+09\n",
            " -4.35428535e+09 -4.35428535e+09 -4.35428535e+09 -4.35428535e+09\n",
            " -4.35428535e+09 -4.35428535e+09  4.72755310e+09  4.72755310e+09\n",
            "  4.72755310e+09  4.72755310e+09  4.72755310e+09  4.72755310e+09\n",
            "  4.72755310e+09  4.72755310e+09  4.72755310e+09  4.72755310e+09\n",
            "  4.72755310e+09  4.72755310e+09  4.72755310e+09  4.72755310e+09\n",
            "  4.72755310e+09  4.72755310e+09 -1.18315500e+10 -1.18315500e+10\n",
            " -1.18315500e+10 -1.18315500e+10 -1.18315500e+10 -1.18315500e+10\n",
            " -1.18315500e+10 -1.18315500e+10 -1.18315500e+10 -1.18315500e+10\n",
            " -1.18315500e+10 -1.18315500e+10 -1.18315500e+10 -1.18315500e+10\n",
            " -1.18315500e+10 -1.18315500e+10]\n"
          ]
        }
      ],
      "source": [
        "\n",
        "LinearReg = LinearRegression()\n",
        "\n",
        "\n",
        "LinearReg.fit(X_train, Y_train)\n",
        "\n",
        "\n",
        "print(\"Intercept:\", LinearReg.intercept_)\n",
        "print(\"Coefficients:\", LinearReg.coef_)\n"
      ]
    },
    {
      "cell_type": "code",
      "execution_count": null,
      "metadata": {
        "trusted": true
      },
      "outputs": [
        {
          "name": "stdout",
          "output_type": "stream",
          "text": [
            "[0.13185596 0.27621174 0.97815037 0.28743076 0.13245678 0.46042728\n",
            " 0.35680485 0.85641003 0.67499065 0.03827   ]\n"
          ]
        }
      ],
      "source": [
        "predictions = LinearReg.predict(X_test)\n",
        "print(predictions[:10])  "
      ]
    },
    {
      "cell_type": "code",
      "execution_count": null,
      "metadata": {
        "trusted": true
      },
      "outputs": [],
      "source": [
        "\n",
        "from sklearn.metrics import mean_absolute_error, mean_squared_error, r2_score"
      ]
    },
    {
      "cell_type": "code",
      "execution_count": null,
      "metadata": {
        "trusted": true
      },
      "outputs": [
        {
          "name": "stdout",
          "output_type": "stream",
          "text": [
            "Mean Absolute Error (MAE): 0.256318933909176\n",
            "Mean Squared Error (MSE): 0.1157209828234031\n",
            "R2 Score (R²): 0.4271301272061002\n"
          ]
        }
      ],
      "source": [
        "LinearRegression_MAE = mean_absolute_error(Y_test, predictions)\n",
        "LinearRegression_MSE = mean_squared_error(Y_test, predictions)\n",
        "LinearRegression_R2 = r2_score(Y_test, predictions)\n",
        "\n",
        "\n",
        "print(\"Mean Absolute Error (MAE):\", LinearRegression_MAE)\n",
        "print(\"Mean Squared Error (MSE):\", LinearRegression_MSE)\n",
        "print(\"R2 Score (R²):\", LinearRegression_R2)"
      ]
    },
    {
      "cell_type": "code",
      "execution_count": null,
      "metadata": {
        "trusted": true
      },
      "outputs": [],
      "source": [
        "\n",
        "import pandas as pd"
      ]
    },
    {
      "cell_type": "code",
      "execution_count": null,
      "metadata": {
        "trusted": true
      },
      "outputs": [
        {
          "name": "stdout",
          "output_type": "stream",
          "text": [
            "               Model       MAE       MSE  R² Score\n",
            "0  Linear Regression  0.256319  0.115721   0.42713\n"
          ]
        }
      ],
      "source": [
        "\n",
        "metrics_dict = {\n",
        "    \"Model\": [\"Linear Regression\"],\n",
        "    \"MAE\": [LinearRegression_MAE],\n",
        "    \"MSE\": [LinearRegression_MSE],\n",
        "    \"R² Score\": [LinearRegression_R2]\n",
        "}\n",
        "\n",
        "\n",
        "metrics_df = pd.DataFrame(metrics_dict)\n",
        "\n",
        "\n",
        "print(metrics_df)"
      ]
    },
    {
      "cell_type": "markdown",
      "metadata": {},
      "source": [
        "### KNN\n"
      ]
    },
    {
      "cell_type": "code",
      "execution_count": null,
      "metadata": {
        "trusted": true
      },
      "outputs": [],
      "source": [
        "\n",
        "from sklearn.neighbors import KNeighborsClassifier"
      ]
    },
    {
      "cell_type": "code",
      "execution_count": null,
      "metadata": {
        "trusted": true
      },
      "outputs": [
        {
          "name": "stdout",
          "output_type": "stream",
          "text": [
            "KNN Model Parameters: {'algorithm': 'auto', 'leaf_size': 30, 'metric': 'minkowski', 'metric_params': None, 'n_jobs': None, 'n_neighbors': 4, 'p': 2, 'weights': 'uniform'}\n"
          ]
        }
      ],
      "source": [
        "\n",
        "KNN = KNeighborsClassifier(n_neighbors=4)\n",
        "\n",
        "\n",
        "KNN.fit(X_train, Y_train)\n",
        "\n",
        "\n",
        "print(\"KNN Model Parameters:\", KNN.get_params())"
      ]
    },
    {
      "cell_type": "code",
      "execution_count": null,
      "metadata": {
        "trusted": true
      },
      "outputs": [
        {
          "name": "stdout",
          "output_type": "stream",
          "text": [
            "[0. 1. 0. 0. 1. 1. 0. 0. 0. 0.]\n"
          ]
        }
      ],
      "source": [
        "predictions = KNN.predict(X_test)\n",
        "print(predictions[:10])  "
      ]
    },
    {
      "cell_type": "code",
      "execution_count": null,
      "metadata": {
        "trusted": true
      },
      "outputs": [],
      "source": [
        "\n",
        "from sklearn.metrics import accuracy_score, jaccard_score, f1_score"
      ]
    },
    {
      "cell_type": "code",
      "execution_count": null,
      "metadata": {
        "trusted": true
      },
      "outputs": [
        {
          "name": "stdout",
          "output_type": "stream",
          "text": [
            "KNN Accuracy Score: 0.8381679389312977\n",
            "KNN Jaccard Index: 0.511520737327189\n",
            "KNN F1 Score: 0.676829268292683\n"
          ]
        }
      ],
      "source": [
        "\n",
        "KNN_Accuracy_Score = accuracy_score(Y_test, predictions)\n",
        "\n",
        "\n",
        "KNN_JaccardIndex = jaccard_score(Y_test, predictions)\n",
        "\n",
        "\n",
        "KNN_F1_Score = f1_score(Y_test, predictions)\n",
        "\n",
        "KNN_Precision = precision_score(Y_test, predictions)\n",
        "KNN_Recall = recall_score(Y_test, predictions)\n",
        "\n",
        "\n",
        "print(\"KNN Accuracy Score:\", KNN_Accuracy_Score)\n",
        "print(\"KNN Jaccard Index:\", KNN_JaccardIndex)\n",
        "print(\"KNN F1 Score:\", KNN_F1_Score)"
      ]
    },
    {
      "cell_type": "markdown",
      "metadata": {},
      "source": [
        "### Decision Tree\n"
      ]
    },
    {
      "cell_type": "code",
      "execution_count": null,
      "metadata": {
        "trusted": true
      },
      "outputs": [],
      "source": [
        "\n",
        "from sklearn.tree import DecisionTreeClassifier"
      ]
    },
    {
      "cell_type": "code",
      "execution_count": null,
      "metadata": {
        "trusted": true
      },
      "outputs": [
        {
          "name": "stdout",
          "output_type": "stream",
          "text": [
            "Decision Tree Model Parameters: {'ccp_alpha': 0.0, 'class_weight': None, 'criterion': 'gini', 'max_depth': None, 'max_features': None, 'max_leaf_nodes': None, 'min_impurity_decrease': 0.0, 'min_samples_leaf': 1, 'min_samples_split': 2, 'min_weight_fraction_leaf': 0.0, 'monotonic_cst': None, 'random_state': None, 'splitter': 'best'}\n"
          ]
        }
      ],
      "source": [
        "\n",
        "Tree = DecisionTreeClassifier()\n",
        "\n",
        "\n",
        "Tree.fit(X_train, Y_train)\n",
        "\n",
        "\n",
        "print(\"Decision Tree Model Parameters:\", Tree.get_params())"
      ]
    },
    {
      "cell_type": "code",
      "execution_count": null,
      "metadata": {
        "trusted": true
      },
      "outputs": [
        {
          "name": "stdout",
          "output_type": "stream",
          "text": [
            "[0. 1. 0. 1. 1. 1. 1. 0. 0. 0.]\n"
          ]
        }
      ],
      "source": [
        "predictions = Tree.predict(X_test)\n",
        "print(predictions[:10])  "
      ]
    },
    {
      "cell_type": "code",
      "execution_count": null,
      "metadata": {
        "trusted": true
      },
      "outputs": [
        {
          "name": "stdout",
          "output_type": "stream",
          "text": [
            "Decision Tree Accuracy Score: 0.8381679389312977\n",
            "Decision Tree Jaccard Index: 0.511520737327189\n",
            "Decision Tree F1 Score: 0.676829268292683\n"
          ]
        }
      ],
      "source": [
        "\n",
        "from sklearn.metrics import accuracy_score, jaccard_score, f1_score\n",
        "\n",
        "\n",
        "Tree_Accuracy_Score = accuracy_score(Y_test, predictions)\n",
        "\n",
        "\n",
        "Tree_JaccardIndex = jaccard_score(Y_test, predictions)\n",
        "\n",
        "\n",
        "Tree_F1_Score = f1_score(Y_test, predictions)\n",
        "\n",
        "Tree_Precision = precision_score(Y_test, predictions)\n",
        "Tree_Recall = recall_score(Y_test, predictions)\n",
        "\n",
        "\n",
        "print(\"Decision Tree Accuracy Score:\", Tree_Accuracy_Score)\n",
        "print(\"Decision Tree Jaccard Index:\", Tree_JaccardIndex)\n",
        "print(\"Decision Tree F1 Score:\", Tree_F1_Score)"
      ]
    },
    {
      "cell_type": "markdown",
      "metadata": {},
      "source": [
        "### Logistic Regression\n"
      ]
    },
    {
      "cell_type": "code",
      "execution_count": null,
      "metadata": {
        "trusted": true
      },
      "outputs": [],
      "source": [
        "\n",
        "from sklearn.model_selection import train_test_split"
      ]
    },
    {
      "cell_type": "code",
      "execution_count": null,
      "metadata": {
        "trusted": true
      },
      "outputs": [
        {
          "name": "stdout",
          "output_type": "stream",
          "text": [
            "Training Features Shape: (2616, 66)\n",
            "Testing Features Shape: (655, 66)\n",
            "Training Labels Shape: (2616,)\n",
            "Testing Labels Shape: (655,)\n"
          ]
        }
      ],
      "source": [
        "\n",
        "X_train, X_test, Y_train, Y_test = train_test_split(X, Y, test_size=0.2, random_state=1)\n",
        "\n",
        "\n",
        "print(\"Training Features Shape:\", X_train.shape)\n",
        "print(\"Testing Features Shape:\", X_test.shape)\n",
        "print(\"Training Labels Shape:\", Y_train.shape)\n",
        "print(\"Testing Labels Shape:\", Y_test.shape)"
      ]
    },
    {
      "cell_type": "code",
      "execution_count": null,
      "metadata": {
        "trusted": true
      },
      "outputs": [],
      "source": [
        "\n",
        "from sklearn.linear_model import LogisticRegression"
      ]
    },
    {
      "cell_type": "code",
      "execution_count": null,
      "metadata": {
        "trusted": true
      },
      "outputs": [
        {
          "name": "stdout",
          "output_type": "stream",
          "text": [
            "Logistic Regression Model Parameters: {'C': 1.0, 'class_weight': None, 'dual': False, 'fit_intercept': True, 'intercept_scaling': 1, 'l1_ratio': None, 'max_iter': 100, 'multi_class': 'auto', 'n_jobs': None, 'penalty': 'l2', 'random_state': None, 'solver': 'liblinear', 'tol': 0.0001, 'verbose': 0, 'warm_start': False}\n"
          ]
        }
      ],
      "source": [
        "\n",
        "LR = LogisticRegression(solver='liblinear')\n",
        "\n",
        "\n",
        "LR.fit(X_train, Y_train)\n",
        "\n",
        "\n",
        "print(\"Logistic Regression Model Parameters:\", LR.get_params())"
      ]
    },
    {
      "cell_type": "code",
      "execution_count": null,
      "metadata": {
        "trusted": true
      },
      "outputs": [
        {
          "name": "stdout",
          "output_type": "stream",
          "text": [
            "Predictions (First 10): [0. 0. 0. 0. 0. 1. 0. 0. 0. 0.]\n",
            "Predicted Probabilities (First 10): [[0.73237141 0.26762859]\n",
            " [0.97552763 0.02447237]\n",
            " [0.53317815 0.46682185]\n",
            " [0.85161636 0.14838364]\n",
            " [0.96854679 0.03145321]\n",
            " [0.06350293 0.93649707]\n",
            " [0.68475321 0.31524679]\n",
            " [0.96087255 0.03912745]\n",
            " [0.91983721 0.08016279]\n",
            " [0.9350353  0.0649647 ]]\n"
          ]
        }
      ],
      "source": [
        "\n",
        "predictions = LR.predict(X_test)\n",
        "\n",
        "\n",
        "predict_proba = LR.predict_proba(X_test)\n",
        "\n",
        "\n",
        "print(\"Predictions (First 10):\", predictions[:10])\n",
        "\n",
        "\n",
        "print(\"Predicted Probabilities (First 10):\", predict_proba[:10])"
      ]
    },
    {
      "cell_type": "code",
      "execution_count": null,
      "metadata": {
        "trusted": true
      },
      "outputs": [],
      "source": [
        "\n",
        "from sklearn.metrics import accuracy_score, jaccard_score, f1_score, log_loss"
      ]
    },
    {
      "cell_type": "code",
      "execution_count": null,
      "metadata": {
        "trusted": true
      },
      "outputs": [
        {
          "name": "stdout",
          "output_type": "stream",
          "text": [
            "Logistic Regression Accuracy Score: 0.8381679389312977\n",
            "Logistic Regression Jaccard Index: 0.511520737327189\n",
            "Logistic Regression F1 Score: 0.676829268292683\n",
            "Logistic Regression Log Loss: 0.38103765010675233\n"
          ]
        }
      ],
      "source": [
        "\n",
        "LR_Accuracy_Score = accuracy_score(Y_test, predictions)\n",
        "\n",
        "\n",
        "LR_JaccardIndex = jaccard_score(Y_test, predictions)\n",
        "\n",
        "\n",
        "LR_F1_Score = f1_score(Y_test, predictions)\n",
        "\n",
        "\n",
        "LR_Log_Loss = log_loss(Y_test, predict_proba)\n",
        "\n",
        "LR_Precision = precision_score(Y_test, predictions)\n",
        "LR_Recall = recall_score(Y_test, predictions)\n",
        "\n",
        "# Display the results\n",
        "print(\"Logistic Regression Accuracy Score:\", LR_Accuracy_Score)\n",
        "print(\"Logistic Regression Jaccard Index:\", LR_JaccardIndex)\n",
        "print(\"Logistic Regression F1 Score:\", LR_F1_Score)\n",
        "print(\"Logistic Regression Log Loss:\", LR_Log_Loss)"
      ]
    },
    {
      "cell_type": "markdown",
      "metadata": {},
      "source": [
        "### SVM\n"
      ]
    },
    {
      "cell_type": "code",
      "execution_count": null,
      "metadata": {
        "trusted": true
      },
      "outputs": [],
      "source": [
        "\n",
        "from sklearn.svm import SVC"
      ]
    },
    {
      "cell_type": "code",
      "execution_count": null,
      "metadata": {
        "trusted": true
      },
      "outputs": [
        {
          "name": "stdout",
          "output_type": "stream",
          "text": [
            "SVM Model Parameters: {'C': 1.0, 'break_ties': False, 'cache_size': 200, 'class_weight': None, 'coef0': 0.0, 'decision_function_shape': 'ovr', 'degree': 3, 'gamma': 'scale', 'kernel': 'rbf', 'max_iter': -1, 'probability': False, 'random_state': None, 'shrinking': True, 'tol': 0.001, 'verbose': False}\n"
          ]
        }
      ],
      "source": [
        "\n",
        "SVM = SVC()\n",
        "\n",
        "\n",
        "SVM.fit(X_train, Y_train)\n",
        "\n",
        "\n",
        "print(\"SVM Model Parameters:\", SVM.get_params())"
      ]
    },
    {
      "cell_type": "code",
      "execution_count": null,
      "metadata": {
        "trusted": true
      },
      "outputs": [
        {
          "name": "stdout",
          "output_type": "stream",
          "text": [
            "[0. 0. 0. 0. 0. 0. 0. 0. 0. 0.]\n"
          ]
        }
      ],
      "source": [
        "\n",
        "predictions = SVM.predict(X_test)\n",
        "\n",
        "print(predictions[:10])"
      ]
    },
    {
      "cell_type": "code",
      "execution_count": null,
      "metadata": {
        "trusted": true
      },
      "outputs": [
        {
          "name": "stdout",
          "output_type": "stream",
          "text": [
            "SVM Accuracy Score: 0.8381679389312977\n",
            "SVM Jaccard Index: 0.511520737327189\n",
            "SVM F1 Score: 0.676829268292683\n"
          ]
        }
      ],
      "source": [
        "from sklearn.metrics import accuracy_score, jaccard_score, f1_score\n",
        "\n",
        "\n",
        "SVM_Accuracy_Score = accuracy_score(Y_test, predictions)\n",
        "\n",
        "\n",
        "SVM_JaccardIndex = jaccard_score(Y_test, predictions)\n",
        "\n",
        "\n",
        "SVM_F1_Score = f1_score(Y_test, predictions)\n",
        "\n",
        "SVM_Precision = precision_score(Y_test, predictions)\n",
        "SVM_Recall = recall_score(Y_test, predictions)\n",
        "\n",
        "\n",
        "print(\"SVM Accuracy Score:\", SVM_Accuracy_Score)\n",
        "print(\"SVM Jaccard Index:\", SVM_JaccardIndex)\n",
        "print(\"SVM F1 Score:\", SVM_F1_Score)"
      ]
    },
    {
      "cell_type": "code",
      "execution_count": 29,
      "metadata": {
        "trusted": true
      },
      "outputs": [
        {
          "name": "stdout",
          "output_type": "stream",
          "text": [
            "[0. 1. 0. 1. 1. 1. 0. 0. 1. 1.]\n"
          ]
        }
      ],
      "source": [
        "X_train, X_test, Y_train, Y_test = train_test_split(X, Y, test_size=0.2, random_state=42)\n",
        "\n",
        "from sklearn.svm import SVC\n",
        "\n",
        "SVM = SVC(kernel='linear', C=1, class_weight='balanced')   # Try adjusting C and gamma\n",
        "SVM.fit(X_train, Y_train)\n",
        "\n",
        "predictions = SVM.predict(X_test)\n",
        "print(predictions[:10])"
      ]
    },
    {
      "cell_type": "code",
      "execution_count": null,
      "metadata": {
        "trusted": true
      },
      "outputs": [
        {
          "name": "stdout",
          "output_type": "stream",
          "text": [
            "SVM Accuracy Score: 0.8381679389312977\n",
            "SVM Jaccard Index: 0.511520737327189\n",
            "SVM F1 Score: 0.676829268292683\n"
          ]
        }
      ],
      "source": [
        "from sklearn.metrics import accuracy_score, jaccard_score, f1_score\n",
        "\n",
        "\n",
        "SVM_Accuracy_Score = accuracy_score(Y_test, predictions)\n",
        "\n",
        "\n",
        "SVM_JaccardIndex = jaccard_score(Y_test, predictions)\n",
        "\n",
        "\n",
        "SVM_F1_Score = f1_score(Y_test, predictions)\n",
        "\n",
        "\n",
        "print(\"SVM Accuracy Score:\", SVM_Accuracy_Score)\n",
        "print(\"SVM Jaccard Index:\", SVM_JaccardIndex)\n",
        "print(\"SVM F1 Score:\", SVM_F1_Score)"
      ]
    },
    {
      "cell_type": "code",
      "execution_count": 65,
      "metadata": {
        "trusted": true
      },
      "outputs": [],
      "source": [
        "import pandas as pd"
      ]
    },
    {
      "cell_type": "code",
      "execution_count": null,
      "metadata": {
        "trusted": true
      },
      "outputs": [
        {
          "name": "stdout",
          "output_type": "stream",
          "text": [
            "                 Model  Accuracy  Jaccard Index  F1 Score  Log Loss\n",
            "0                  KNN  0.792366       0.349282  0.517730       NaN\n",
            "1        Decision Tree  0.764885       0.414449  0.586022       NaN\n",
            "2  Logistic Regression  0.838168       0.511521  0.676829  0.381038\n",
            "3                  SVM  0.838168       0.511521  0.676829       NaN\n"
          ]
        }
      ],
      "source": [
        "\n",
        "metrics = {\n",
        "    'Model': ['KNN', 'Decision Tree', 'Logistic Regression', 'SVM'],\n",
        "    'Accuracy': [KNN_Accuracy_Score, Tree_Accuracy_Score, LR_Accuracy_Score, SVM_Accuracy_Score],\n",
        "    'Jaccard Index': [KNN_JaccardIndex, Tree_JaccardIndex, LR_JaccardIndex, SVM_JaccardIndex],\n",
        "    'F1 Score': [KNN_F1_Score, Tree_F1_Score, LR_F1_Score, SVM_F1_Score],\n",
        "    'Log Loss': [None, None, LR_Log_Loss, None]  \n",
        "}\n",
        "\n",
        "\n",
        "metrics_df = pd.DataFrame(metrics)\n",
        "\n",
        "\n",
        "print(metrics_df)"
      ]
    },
    {
      "cell_type": "code",
      "execution_count": null,
      "metadata": {
        "trusted": true
      },
      "outputs": [
        {
          "name": "stdout",
          "output_type": "stream",
          "text": [
            "            Feature  Importance\n",
            "9       Humidity3pm    0.152014\n",
            "4          Sunshine    0.112769\n",
            "8       Humidity9am    0.056073\n",
            "13         Cloud3pm    0.055651\n",
            "15          Temp3pm    0.044788\n",
            "..              ...         ...\n",
            "22   WindGustDir_NE    0.001227\n",
            "56   WindDir3pm_NNW    0.001184\n",
            "24  WindGustDir_NNW    0.000998\n",
            "62    WindDir3pm_SW    0.000846\n",
            "21    WindGustDir_N    0.000736\n",
            "\n",
            "[66 rows x 2 columns]\n"
          ]
        }
      ],
      "source": [
        "from sklearn.ensemble import RandomForestClassifier\n",
        "import pandas as pd\n",
        "\n",
        "\n",
        "RF = RandomForestClassifier(n_estimators=100, random_state=42)\n",
        "\n",
        "\n",
        "RF.fit(X_train, Y_train)\n",
        "\n",
        "\n",
        "feature_importance = RF.feature_importances_\n",
        "\n",
        "\n",
        "feature_importance_df = pd.DataFrame({\n",
        "    'Feature': X_train.columns,\n",
        "    'Importance': feature_importance\n",
        "}).sort_values(by='Importance', ascending=False)\n",
        "\n",
        "\n",
        "print(feature_importance_df)"
      ]
    },
    {
      "cell_type": "code",
      "execution_count": null,
      "metadata": {
        "trusted": true
      },
      "outputs": [
        {
          "name": "stdout",
          "output_type": "stream",
          "text": [
            "k=1, Accuracy=0.7710\n",
            "k=2, Accuracy=0.8015\n",
            "k=3, Accuracy=0.8229\n",
            "k=4, Accuracy=0.8183\n",
            "k=5, Accuracy=0.8198\n",
            "k=6, Accuracy=0.8351\n",
            "k=7, Accuracy=0.8336\n",
            "k=8, Accuracy=0.8290\n",
            "k=9, Accuracy=0.8351\n",
            "k=10, Accuracy=0.8244\n"
          ]
        }
      ],
      "source": [
        "from sklearn.neighbors import KNeighborsClassifier\n",
        "from sklearn.metrics import accuracy_score\n",
        "\n",
        "for k in range(1, 11):  \n",
        "    knn = KNeighborsClassifier(n_neighbors=k)\n",
        "    knn.fit(X_train, Y_train)\n",
        "    predictions = knn.predict(X_test)\n",
        "    acc = accuracy_score(Y_test, predictions)\n",
        "    print(f'k={k}, Accuracy={acc:.4f}')\n"
      ]
    },
    {
      "cell_type": "code",
      "execution_count": null,
      "metadata": {
        "trusted": true
      },
      "outputs": [
        {
          "name": "stdout",
          "output_type": "stream",
          "text": [
            "                 Model  Precision   Recall\n",
            "0                  KNN   0.760274  0.60989\n",
            "1        Decision Tree   0.760274  0.60989\n",
            "2  Logistic Regression   0.760274  0.60989\n",
            "3                  SVM   0.760274  0.60989\n"
          ]
        }
      ],
      "source": [
        "metrics_df = pd.DataFrame({\n",
        "    \"Model\": [\"KNN\", \"Decision Tree\", \"Logistic Regression\", \"SVM\"],\n",
        "    \"Precision\": [KNN_Precision, Tree_Precision, LR_Precision, SVM_Precision],\n",
        "    \"Recall\": [KNN_Recall, Tree_Recall, LR_Recall, SVM_Recall]\n",
        "})\n",
        "\n",
        "\n",
        "print(metrics_df)"
      ]
    },
    {
      "cell_type": "markdown",
      "metadata": {},
      "source": [
        "## <h3 align=\"center\"> © IBM Corporation 2020. All rights reserved. <h3/>\n",
        "\n",
        "<!--\n",
        "## Change Log\n",
        "\n",
        "| Date (YYYY-MM-DD) | Version | Changed By    | Change Description          |\n",
        "| ----------------- | ------- | ------------- | --------------------------- |\n",
        "| 2022-06-22        | 2.0     | Svitlana K.   | Deleted GridSearch and Mock |\n",
        "--!>"
      ]
    }
  ],
  "metadata": {
    "kernelspec": {
      "display_name": "Python (Pyodide)",
      "language": "python",
      "name": "python"
    },
    "language_info": {
      "codemirror_mode": {
        "name": "python",
        "version": 3
      },
      "file_extension": ".py",
      "mimetype": "text/x-python",
      "name": "python",
      "nbconvert_exporter": "python",
      "pygments_lexer": "ipython3",
      "version": "3.8"
    },
    "prev_pub_hash": "b45b938fc7420206c5fa3f040f896f2a578fd1045d763cf82b4c02f8772d2aee"
  },
  "nbformat": 4,
  "nbformat_minor": 4
}
