{
  "nbformat": 4,
  "nbformat_minor": 0,
  "metadata": {
    "colab": {
      "provenance": []
    },
    "kernelspec": {
      "name": "python3",
      "display_name": "Python 3"
    },
    "language_info": {
      "name": "python"
    }
  },
  "cells": [
    {
      "cell_type": "code",
      "execution_count": null,
      "metadata": {
        "id": "kHz3MTggMcnZ"
      },
      "outputs": [],
      "source": [
        "\n",
        "\n",
        "#Task 1\n",
        "\n",
        "documents = [\n",
        " {'type': 'passport', 'number': '2207 876234', 'name': 'Василий Гупкин'},\n",
        " {'type': 'invoice', 'number': '11-2', 'name': 'Геннадий Покемонов'},\n",
        " {'type': 'insurance', 'number': '10006', 'name': 'Аристарх Павлов'}\n",
        "]\n",
        "\n",
        "directories = {\n",
        " '1': ['2207 876234', '11-2'],\n",
        " '2': ['10006'],\n",
        " '3': []\n",
        "}\n",
        "\n"
      ]
    },
    {
      "cell_type": "code",
      "source": [
        "#Task 1\n",
        "\n",
        "#Пользователь по команде \"p\" может узнать владельца документа по его номеруp(documents)\n",
        "\n",
        "def find_owner(documents):\n",
        "    number_input = input('Введите номер документа ')\n",
        "    for element in documents:\n",
        "        if list(element.values())[1] == number_input:\n",
        "            result = list(element.values())[2]\n",
        "            return result\n",
        "    return 'Документ не найден в базе'\n",
        "\n",
        "print(find_owner(documents))"
      ],
      "metadata": {
        "colab": {
          "base_uri": "https://localhost:8080/"
        },
        "id": "witlNv_rNPYJ",
        "outputId": "44f4969f-34ec-4dea-edaa-1cdde5c00d5f"
      },
      "execution_count": null,
      "outputs": [
        {
          "output_type": "stream",
          "name": "stdout",
          "text": [
            "Введите номер документа 1\n",
            "Документ не найден в базе\n"
          ]
        }
      ]
    },
    {
      "cell_type": "code",
      "source": [
        "\n",
        "\n",
        "#Пользователь по команде \"s\" может по номеру документа узнать на какой полке он хранится\n",
        "\n",
        "def find_shelf(directories):\n",
        "    number_input = input('Введите номер документа ')\n",
        "    for key,item in directories.items():\n",
        "        if number_input in item:\n",
        "            return f'Документ хранится на полке: {key}'\n",
        "    return 'Документ не найден в базе'\n",
        "\n",
        "find_shelf(directories)\n",
        "\n"
      ],
      "metadata": {
        "colab": {
          "base_uri": "https://localhost:8080/",
          "height": 52
        },
        "id": "JzfBPU-mOMkU",
        "outputId": "ac9a29c5-e09d-4595-9676-ade2eb43eefc"
      },
      "execution_count": null,
      "outputs": [
        {
          "name": "stdout",
          "output_type": "stream",
          "text": [
            "Введите номер документа 1\n"
          ]
        },
        {
          "output_type": "execute_result",
          "data": {
            "text/plain": [
              "'Документ не найден в базе'"
            ],
            "application/vnd.google.colaboratory.intrinsic+json": {
              "type": "string"
            }
          },
          "metadata": {},
          "execution_count": 3
        }
      ]
    },
    {
      "cell_type": "code",
      "source": [
        "#Пользователь по команде \"l\" может увидеть полную информацию по всем документам\n",
        "\n",
        "def find_all_info(documents, directories):\n",
        "\n",
        "    for line in documents:\n",
        "        type_doc = list(line.values())[0]\n",
        "        number = list(line.values())[1]\n",
        "        person = list(line.values())[2]\n",
        "        for key,item in directories.items():\n",
        "            if number in item:\n",
        "                shelf = key\n",
        "\n",
        "        print(f'№: {number}, тип: {type_doc}, владелец: {person}, полка хранения: {shelf}')\n",
        "\n",
        "find_all_info(documents, directories)"
      ],
      "metadata": {
        "colab": {
          "base_uri": "https://localhost:8080/"
        },
        "id": "8jBfE23hOX8Y",
        "outputId": "61752c12-2cfb-47d3-ed9c-561f28a5423b"
      },
      "execution_count": null,
      "outputs": [
        {
          "output_type": "stream",
          "name": "stdout",
          "text": [
            "№: 2207 876234, тип: passport, владелец: Василий Гупкин, полка хранения: 1\n",
            "№: 11-2, тип: invoice, владелец: Геннадий Покемонов, полка хранения: 1\n",
            "№: 10006, тип: insurance, владелец: Аристарх Павлов, полка хранения: 2\n"
          ]
        }
      ]
    },
    {
      "cell_type": "code",
      "source": [
        "#Пользователь по команде \"ads\" может добавить новую полку\n",
        "\n",
        "def add_shelf(directories):\n",
        "    shelf_input = input('Введите номер полки')\n",
        "    current_shelfs = ','.join(directories.keys())\n",
        "    if shelf_input in directories:\n",
        "        return(f'Такая полка уже существует. Текущий перечень полок: {current_shelfs}')\n",
        "    else:\n",
        "        new_directories = directories.setdefault(shelf_input,[])\n",
        "        return (f'Полка добавлена. Текущие перечень полок: {list(directories)}')\n",
        "\n",
        "\n",
        "add_shelf(directories)"
      ],
      "metadata": {
        "colab": {
          "base_uri": "https://localhost:8080/",
          "height": 52
        },
        "id": "ednf2x4vOeDn",
        "outputId": "8e2b13a7-3876-4c7c-c0d0-9d1733c73657"
      },
      "execution_count": null,
      "outputs": [
        {
          "name": "stdout",
          "output_type": "stream",
          "text": [
            "Введите номер полки1\n"
          ]
        },
        {
          "output_type": "execute_result",
          "data": {
            "text/plain": [
              "'Такая полка уже существует. Текущий перечень полок: 1,2,3'"
            ],
            "application/vnd.google.colaboratory.intrinsic+json": {
              "type": "string"
            }
          },
          "metadata": {},
          "execution_count": 5
        }
      ]
    },
    {
      "cell_type": "code",
      "source": [
        "#Пользователь по команде \"ds\" может удалить существующую полку из данных (только если она пустая)\n",
        "\n",
        "def delete_shelf(directories):\n",
        "\n",
        "    current_shelfs = ','.join(directories.keys())\n",
        "    shelf_input = input('Введите номер полки')\n",
        "    if shelf_input not in directories.keys():\n",
        "        return (f'Такой полки не существует. Текущий перечень полок: {list(directories)}')\n",
        "    elif shelf_input in directories and directories.get(shelf_input):\n",
        "            return(f'На полке есть документы, удалите их перед удалением полки. Текущий перечень полок: {list(directories)}')\n",
        "    else:\n",
        "        del(directories[shelf_input])\n",
        "        return(f'Полка удалена. Текущий перечень полок: {list(directories.keys())}')\n",
        "\n",
        "delete_shelf(directories)"
      ],
      "metadata": {
        "colab": {
          "base_uri": "https://localhost:8080/",
          "height": 52
        },
        "id": "ypqw7jzxOnyZ",
        "outputId": "3cad632f-d963-4a04-c491-02fee98a9cec"
      },
      "execution_count": null,
      "outputs": [
        {
          "name": "stdout",
          "output_type": "stream",
          "text": [
            "Введите номер полки1\n"
          ]
        },
        {
          "output_type": "execute_result",
          "data": {
            "text/plain": [
              "\"На полке есть документы, удалите их перед удалением полки. Текущий перечень полок: ['1', '2', '3']\""
            ],
            "application/vnd.google.colaboratory.intrinsic+json": {
              "type": "string"
            }
          },
          "metadata": {},
          "execution_count": 6
        }
      ]
    },
    {
      "cell_type": "code",
      "source": [
        "def main():\n",
        "    while True:\n",
        "        user_input = input('Введите команду')\n",
        "        if user_input == 'p':\n",
        "            print(find_owner(documents))\n",
        "        elif  user_input == 's':\n",
        "            print(find_shelf(directories))\n",
        "        elif user_input == 'l':\n",
        "            print(find_all_info(documents, directories))\n",
        "        elif user_input == 'ads':\n",
        "            print(add_shelf(directories))\n",
        "        elif user_input == 'ds':\n",
        "            print(delete_shelf(directories))\n",
        "        elif user_input == 'ad':\n",
        "            print(add_doc(documents, directories))\n",
        "        elif user_input == 'q':\n",
        "            break\n",
        "main()"
      ],
      "metadata": {
        "colab": {
          "base_uri": "https://localhost:8080/"
        },
        "id": "whatYXW8mO1X",
        "outputId": "d7b32d26-ebaf-4320-e80e-6afe2dfa5875"
      },
      "execution_count": null,
      "outputs": [
        {
          "name": "stdout",
          "output_type": "stream",
          "text": [
            "Введите командуp\n",
            "Введите номер документа 1\n",
            "Документ не найден в базе\n",
            "Введите командуq\n"
          ]
        }
      ]
    }
  ]
}