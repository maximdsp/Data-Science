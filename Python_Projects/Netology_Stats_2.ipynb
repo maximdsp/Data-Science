{
  "nbformat": 4,
  "nbformat_minor": 0,
  "metadata": {
    "colab": {
      "provenance": []
    },
    "kernelspec": {
      "name": "python3",
      "display_name": "Python 3"
    },
    "language_info": {
      "name": "python"
    }
  },
  "cells": [
    {
      "cell_type": "code",
      "source": [
        "import numpy as np"
      ],
      "metadata": {
        "id": "ew9bwfwajmTK"
      },
      "execution_count": null,
      "outputs": []
    },
    {
      "cell_type": "code",
      "source": [
        "trials = 100000\n",
        "success = 0\n",
        "budget = 0\n",
        "\n",
        "for i in range(trials):\n",
        "    number = np.random.randint(0, 1000)\n",
        "    budget -= 1\n",
        "    if number == 111:\n",
        "        success += 1\n",
        "        budget += 10\n",
        "    elif number == 333:\n",
        "        success += 1\n",
        "        budget += 15\n",
        "    elif number == 555:\n",
        "        success += 1\n",
        "        budget += 50\n",
        "    elif number == 999:\n",
        "        success += 1\n",
        "        budget += 100\n",
        "    elif number == 777:\n",
        "        success += 1\n",
        "        budget += 200\n",
        "\n",
        "    elif number % 100 == 0:\n",
        "        success += 1\n",
        "        budget += 2\n",
        "    elif number % 10 == 0 :\n",
        "        success += 1\n",
        "        budget += 1\n",
        "    elif number % 100 == 77:\n",
        "        success += 1\n",
        "        budget += 5\n",
        "    elif number % 10 == 7:\n",
        "        success += 1\n",
        "        budget += 3\n",
        "\n",
        "\n",
        "p_monte_carlo = success / trials\n",
        "\n",
        "m_expect = 100/1000 * 1 + 10/1000 * 2 + 100/1000 * 3 + 10/1000 * 5 + 1/1000 * 10 + 1/1000 * 15 + 1/1000 * 50 + 1/1000 * 100 + 1/1000 * 200 - 1\n",
        "print(f'попыток {trials} \\nуспешных {success} \\nвсего денег {budget} \\nвыигрыш\\проигрыш на попытку {budget/trials} \\nвероятность Монте-Карло {p_monte_carlo} \\nмат ожидание {m_expect}')"
      ],
      "metadata": {
        "colab": {
          "base_uri": "https://localhost:8080/"
        },
        "id": "VEn1-61xkEIQ",
        "outputId": "4a2c26df-be16-46ed-a376-01536b9be257"
      },
      "execution_count": null,
      "outputs": [
        {
          "output_type": "stream",
          "name": "stdout",
          "text": [
            "попыток 100000 \n",
            "успешных 20325 \n",
            "всего денег -18103 \n",
            "выигрыш\\проигрыш на попытку -0.18103 \n",
            "вероятность Монте-Карло 0.20325 \n",
            "мат ожидание -0.15500000000000003\n"
          ]
        }
      ]
    },
    {
      "cell_type": "markdown",
      "source": [
        "\n",
        "Игра невыгодна игроку, так как в среднем игрок всегда теряет 16 копеек, а вероятность выигрыша составляет 20%."
      ],
      "metadata": {
        "id": "GQgNqVcTkZKq"
      }
    },
    {
      "cell_type": "code",
      "source": [
        "total = []\n",
        "for i in range(1000):\n",
        "    if int(i) % 100 == 0:\n",
        "        total.append(i)\n",
        "print(len(total))"
      ],
      "metadata": {
        "colab": {
          "base_uri": "https://localhost:8080/"
        },
        "id": "jJ6ar8KYka3w",
        "outputId": "6107cdb1-a9c8-4d49-8965-8c4238f059c8"
      },
      "execution_count": null,
      "outputs": [
        {
          "output_type": "stream",
          "name": "stdout",
          "text": [
            "10\n"
          ]
        }
      ]
    }
  ]
}