{
  "nbformat": 4,
  "nbformat_minor": 0,
  "metadata": {
    "colab": {
      "provenance": []
    },
    "kernelspec": {
      "name": "python3",
      "display_name": "Python 3"
    },
    "language_info": {
      "name": "python"
    }
  },
  "cells": [
    {
      "cell_type": "code",
      "execution_count": null,
      "metadata": {
        "id": "3tGKRWvHoMhZ"
      },
      "outputs": [],
      "source": [
        "import json"
      ]
    },
    {
      "cell_type": "code",
      "source": [
        "#Task 1\n",
        "\n",
        "i = 0\n",
        "purchases = {}\n",
        "with open('purchase_log.txt', 'r', encoding = 'utf-8') as purchase_file:\n",
        "    for line in purchase_file:\n",
        "        line = line.strip()\n",
        "        dict_ = json.loads(line)\n",
        "        purchases.setdefault(dict_['user_id'], [])\n",
        "        purchases[dict_['user_id']].append(dict_['category'])\n",
        "#         i += 1\n",
        "#         if i > 5:\n",
        "#             break\n",
        "    del(purchases['user_id'])\n",
        "print(purchases)\n"
      ],
      "metadata": {
        "colab": {
          "base_uri": "https://localhost:8080/"
        },
        "id": "WZLdrwSaojd7",
        "outputId": "1c642479-069e-499a-eb94-93f7cd066219"
      },
      "execution_count": null,
      "outputs": [
        {
          "output_type": "stream",
          "name": "stderr",
          "text": [
            "IOPub data rate exceeded.\n",
            "The notebook server will temporarily stop sending output\n",
            "to the client in order to avoid crashing it.\n",
            "To change this limit, set the config variable\n",
            "`--NotebookApp.iopub_data_rate_limit`.\n",
            "\n",
            "Current values:\n",
            "NotebookApp.iopub_data_rate_limit=1000000.0 (bytes/sec)\n",
            "NotebookApp.rate_limit_window=3.0 (secs)\n",
            "\n"
          ]
        }
      ]
    }
  ]
}