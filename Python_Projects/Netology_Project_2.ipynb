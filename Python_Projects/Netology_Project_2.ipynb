{
  "nbformat": 4,
  "nbformat_minor": 0,
  "metadata": {
    "colab": {
      "provenance": []
    },
    "kernelspec": {
      "name": "python3",
      "display_name": "Python 3"
    },
    "language_info": {
      "name": "python"
    }
  },
  "cells": [
    {
      "cell_type": "code",
      "metadata": {
        "colab": {
          "base_uri": "https://localhost:8080/"
        },
        "id": "sS5edfc-_yj8",
        "outputId": "beebbe8d-37f6-4097-91ab-22e629dd55c2"
      },
      "source": [
        "# Task 1\n",
        "word = 'test'\n",
        "if len(word) % 2 == 0:\n",
        "    print(word[len(word) // 2 - 1:len(word) // 2 + 1])\n",
        "else:\n",
        "    print(word[len(word) // 2])"
      ],
      "execution_count": null,
      "outputs": [
        {
          "output_type": "stream",
          "text": [
            "es\n"
          ],
          "name": "stdout"
        }
      ]
    },
    {
      "cell_type": "code",
      "metadata": {
        "colab": {
          "base_uri": "https://localhost:8080/"
        },
        "id": "GFS_ne2BBX1O",
        "outputId": "830250e2-d2c2-411f-cf6e-2fdc9b3377d3"
      },
      "source": [
        "# Task 2\n",
        "number = int(input('Введите число:'))\n",
        "numbers_list = []\n",
        "while number != 0:\n",
        "    print(number)\n",
        "    numbers_list.append(number)\n",
        "    number = int(input('Введите число:'))\n",
        "    #break\n",
        "sum(numbers_list)"
      ],
      "execution_count": null,
      "outputs": [
        {
          "output_type": "stream",
          "text": [
            "Введите число:1\n",
            "1\n",
            "Введите число:4\n",
            "4\n",
            "Введите число:6\n",
            "6\n",
            "Введите число:0\n"
          ],
          "name": "stdout"
        },
        {
          "output_type": "execute_result",
          "data": {
            "text/plain": [
              "11"
            ]
          },
          "metadata": {
            "tags": []
          },
          "execution_count": 2
        }
      ]
    },
    {
      "cell_type": "code",
      "metadata": {
        "colab": {
          "base_uri": "https://localhost:8080/"
        },
        "id": "X9PTbPGJBdXn",
        "outputId": "9dd8a14b-18fc-4a6c-9086-6bd18dfbc46c"
      },
      "source": [
        "# Task 3\n",
        "boys = ['Peter', 'Alex', 'John', 'Arthur', 'Richard']\n",
        "girls = ['Kate', 'Liza', 'Kira', 'Emma', 'Trisha']\n",
        "if len(boys) == len(girls):\n",
        "    print('Идеальные пары:')\n",
        "    ideal = zip(sorted(boys), sorted(girls))\n",
        "    for pair in ideal:\n",
        "        print(pair[0], 'и', pair[1])\n",
        "else:\n",
        "    print('Внимание, кто-то может остаться без пары!')"
      ],
      "execution_count": null,
      "outputs": [
        {
          "output_type": "stream",
          "text": [
            "Идеальные пары:\n",
            "Alex и Emma\n",
            "Arthur и Kate\n",
            "John и Kira\n",
            "Peter и Liza\n",
            "Richard и Trisha\n"
          ],
          "name": "stdout"
        }
      ]
    },
    {
      "cell_type": "code",
      "metadata": {
        "colab": {
          "base_uri": "https://localhost:8080/"
        },
        "id": "47WFPmy4Bn3o",
        "outputId": "2d07cf13-f7f7-48e8-b90e-d0fcdc29fb01"
      },
      "source": [
        "# Task 4\n",
        "countries_temperature = [\n",
        "['Thailand', [75.2, 77, 78.8, 73.4, 68, 75.2, 77]],\n",
        "['Germany', [57.2, 55.4, 59, 59, 53.6]],\n",
        "['Russia', [35.6, 37.4, 39.2, 41, 42.8, 39.2, 35.6]],\n",
        "['Poland', [50, 50, 53.6, 57.2, 55.4, 55.4]]\n",
        "]\n",
        "print('Средняя температура в странах:')\n",
        "for country in countries_temperature:\n",
        "    print(country[0], '-', round((sum(country[1])/len(country[1]) - 32) * (5 / 9), 1), 'С')"
      ],
      "execution_count": null,
      "outputs": [
        {
          "output_type": "stream",
          "text": [
            "Средняя температура в странах:\n",
            "Thailand - 23.9 С\n",
            "Germany - 13.8 С\n",
            "Russia - 3.7 С\n",
            "Poland - 12.0 С\n"
          ],
          "name": "stdout"
        }
      ]
    },
    {
      "cell_type": "code",
      "metadata": {
        "colab": {
          "base_uri": "https://localhost:8080/"
        },
        "id": "XZrIUzToBrSi",
        "outputId": "42d88b9b-d4f1-40db-a409-7dfad849a41a"
      },
      "source": [
        "# Task 5\n",
        "stream = [\n",
        "'2018-01-01,user100,150',\n",
        "'2018-01-07,user99,205',\n",
        "'2018-03-29,user1001,81'\n",
        "]\n",
        "users_list = []\n",
        "unique_users = []\n",
        "count_list = []\n",
        "for element in stream:\n",
        "    date, users, count = element.split(',')\n",
        "    users_list.append(users)\n",
        "    count = int(count)\n",
        "    count_list.append(count)\n",
        "for users in users_list:\n",
        "    if users not in unique_users:\n",
        "        unique_users.append(users)\n",
        "print('Среднее количество просмотров на уникального пользователя:', round(sum(count_list)/len(unique_users), 2))"
      ],
      "execution_count": null,
      "outputs": [
        {
          "output_type": "stream",
          "text": [
            "Среднее количество просмотров на уникального пользователя: 145.33\n"
          ],
          "name": "stdout"
        }
      ]
    },
    {
      "cell_type": "code",
      "metadata": {
        "colab": {
          "base_uri": "https://localhost:8080/"
        },
        "id": "XjCH321CBxEk",
        "outputId": "141f65e8-2d2c-46d0-c989-fe94ff11f7f9"
      },
      "source": [
        "# Task 6\n",
        "numbers_list = []\n",
        "entered_list = input('Введите числа:').split( )\n",
        "for number in entered_list:\n",
        "    if entered_list.count(number) > 1 and number not in numbers_list:\n",
        "        numbers_list.append(number)\n",
        "print(' '.join(numbers_list))"
      ],
      "execution_count": null,
      "outputs": [
        {
          "output_type": "stream",
          "text": [
            "Введите числа:1 1 2 2 3 3\n",
            "1 2 3\n"
          ],
          "name": "stdout"
        }
      ]
    }
  ]
}