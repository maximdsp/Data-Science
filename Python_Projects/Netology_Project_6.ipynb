{
  "nbformat": 4,
  "nbformat_minor": 0,
  "metadata": {
    "colab": {
      "provenance": []
    },
    "kernelspec": {
      "name": "python3",
      "display_name": "Python 3"
    },
    "language_info": {
      "name": "python"
    }
  },
  "cells": [
    {
      "cell_type": "code",
      "execution_count": null,
      "metadata": {
        "id": "1v_YlOhWrcum"
      },
      "outputs": [],
      "source": [
        "#Task 1\n",
        "\n",
        "from datetime import datetime\n",
        "import time\n",
        "from datetime import datetime, timedelta"
      ]
    },
    {
      "cell_type": "code",
      "source": [
        "The_Moscow_Times_date  = 'Wednesday, October 2, 2002'\n",
        "date_MT = datetime.strptime(The_Moscow_Times_date, '%A, %B %d, %Y')\n",
        "\n",
        "The_Guardian_date = 'Friday, 11.10.13'\n",
        "date_G = datetime.strptime(The_Guardian_date, '%A, %d.%m.%y')\n",
        "\n",
        "Daily_News_date = 'Thursday, 18 August 1977'\n",
        "date_DN = datetime.strptime(Daily_News_date, '%A, %d %B %Y')\n",
        "\n",
        "print('\\n', date_MT, '\\n', date_G,'\\n', date_DN)"
      ],
      "metadata": {
        "colab": {
          "base_uri": "https://localhost:8080/"
        },
        "id": "9Wz5JLrrrtwq",
        "outputId": "faff3c5c-05d2-4d8e-e908-3eba3585d63c"
      },
      "execution_count": null,
      "outputs": [
        {
          "output_type": "stream",
          "name": "stdout",
          "text": [
            "\n",
            " 2002-10-02 00:00:00 \n",
            " 2013-10-11 00:00:00 \n",
            " 1977-08-18 00:00:00\n"
          ]
        }
      ]
    },
    {
      "cell_type": "code",
      "source": [
        "#Task 2\n",
        "stream = ['2018-04-02', '2018-02-29', '2018-19-02']\n",
        "\n",
        "def date_check(stream):\n",
        "    for date in stream:\n",
        "        try:\n",
        "            if datetime.strptime(date, '%Y-%m-%d'):\n",
        "                print(f'{date} {True}')\n",
        "        except:\n",
        "            print(f'{date} {False}')\n",
        "date_check(stream)"
      ],
      "metadata": {
        "colab": {
          "base_uri": "https://localhost:8080/"
        },
        "id": "LwXcxi9xrxMb",
        "outputId": "00e5672f-bc51-4089-d069-a3d2ebd733f5"
      },
      "execution_count": null,
      "outputs": [
        {
          "output_type": "stream",
          "name": "stdout",
          "text": [
            "2018-04-02 True\n",
            "2018-02-29 False\n",
            "2018-19-02 False\n"
          ]
        }
      ]
    },
    {
      "cell_type": "code",
      "source": [
        "#Task 3\n",
        "\n",
        "start_date = '2020-01-15'\n",
        "end_date = '2020-01-20'\n",
        "\n",
        "def data_range(start_date, end_date):\n",
        "    try:\n",
        "        start_date_dt = datetime.strptime(start_date, '%Y-%m-%d')\n",
        "        end_date_dt = datetime.strptime(end_date, '%Y-%m-%d')\n",
        "        current_dt = start_date_dt\n",
        "\n",
        "        if start_date_dt <= end_date_dt:\n",
        "            while current_dt <= end_date_dt:\n",
        "                print(datetime.strftime(current_dt, '%Y-%m-%d'))\n",
        "                current_dt += timedelta(days=1)\n",
        "    except:\n",
        "        print([])\n",
        "data_range(start_date, end_date)"
      ],
      "metadata": {
        "colab": {
          "base_uri": "https://localhost:8080/"
        },
        "id": "HhYuEp3jr0eA",
        "outputId": "4ae79054-a13d-45bf-824e-9ea04b4e09c4"
      },
      "execution_count": null,
      "outputs": [
        {
          "output_type": "stream",
          "name": "stdout",
          "text": [
            "2020-01-15\n",
            "2020-01-16\n",
            "2020-01-17\n",
            "2020-01-18\n",
            "2020-01-19\n",
            "2020-01-20\n"
          ]
        }
      ]
    }
  ]
}