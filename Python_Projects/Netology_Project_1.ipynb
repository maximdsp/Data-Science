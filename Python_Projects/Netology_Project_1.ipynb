{
  "nbformat": 4,
  "nbformat_minor": 0,
  "metadata": {
    "colab": {
      "provenance": []
    },
    "kernelspec": {
      "name": "python3",
      "display_name": "Python 3"
    },
    "language_info": {
      "name": "python"
    }
  },
  "cells": [
    {
      "cell_type": "code",
      "metadata": {
        "colab": {
          "base_uri": "https://localhost:8080/"
        },
        "id": "FgXLjYVsFj7m",
        "outputId": "827a771b-d8e6-48e2-eb0d-fc051b58e789"
      },
      "source": [
        "# Task 1\n",
        "phrase_1 = input()\n",
        "phrase_2 = input()\n",
        "if len (phrase_1) > len (phrase_2):\n",
        "    print ('Фраза 1 длиннее фразы 2')\n",
        "elif len(phrase_1) < len (phrase_2):\n",
        "    print ('Фраза 2 длиннее фразы 1')\n",
        "else:\n",
        "    print('Фразы равной длины')"
      ],
      "execution_count": null,
      "outputs": [
        {
          "output_type": "stream",
          "text": [
            "check\n",
            "check it\n",
            "Фраза 2 длиннее фразы 1\n"
          ],
          "name": "stdout"
        }
      ]
    },
    {
      "cell_type": "code",
      "metadata": {
        "colab": {
          "base_uri": "https://localhost:8080/"
        },
        "id": "jUx5o8uVF2fJ",
        "outputId": "cb0ba0d8-5790-4265-c8e5-020bf233b37c"
      },
      "source": [
        "# Task 2\n",
        "year = int(input())\n",
        "if year % 4 == 0 and year % 100 != 0 or year % 400 == 0:\n",
        "    print('Високосный год')\n",
        "else:\n",
        "    print('Обычный год')"
      ],
      "execution_count": null,
      "outputs": [
        {
          "output_type": "stream",
          "text": [
            "2020\n",
            "Високосный год\n"
          ],
          "name": "stdout"
        }
      ]
    },
    {
      "cell_type": "code",
      "metadata": {
        "colab": {
          "base_uri": "https://localhost:8080/"
        },
        "id": "vx7_kZV7F7S9",
        "outputId": "77df7139-166c-45fe-9f5a-1ca11d3caf44"
      },
      "source": [
        "# Task 3\n",
        "day = int(input('Введите день: '))\n",
        "month = input('Введите месяц: ')\n",
        "if (month == 'Март' or month == 'март') and 21 <= day <= 31:\n",
        "    print('Ваш знак зодиака:Овен')\n",
        "elif (month == 'Апрель' or month == 'апрель') and 1 <= day <= 20:\n",
        "    print('Ваш знак зодиака:Овен')\n",
        "elif (month == 'Апрель' or month == 'апрель') and 21 <= day <= 30:\n",
        "    print('Ваш знак зодиака:Телец')\n",
        "elif (month == 'Май' or month == 'май') and 1 <= day <= 21:\n",
        "    print('Ваш знак зодиака:Телец')\n",
        "elif (month == 'Май' or month == 'май') and 22 <= day <= 31:\n",
        "    print('Ваш знак зодиака:Близнецы')\n",
        "elif (month == 'Июнь' or month == 'июнь') and 1 <= day <= 21:\n",
        "    print('Ваш знак зодиака:Близнецы')\n",
        "elif (month == 'Июнь' or month == 'июнь') and 22 <= day <= 30:\n",
        "    print('Ваш знак зодиака:Рак')\n",
        "elif (month == 'Июль' or month == 'июль') and 1 <= day <= 22:\n",
        "    print('Ваш знак зодиака:Рак')\n",
        "elif (month == 'Июль' or month == 'июль') and 23 <= day <= 31:\n",
        "    print('Ваш знак зодиака:Лев')\n",
        "elif (month == 'Август' or month == 'август') and 1 <= day <= 21:\n",
        "    print('Ваш знак зодиака:Лев')\n",
        "elif (month == 'Август' or month == 'август') and 22 <= day <= 31:\n",
        "    print('Ваш знак зодиака:Дева')\n",
        "elif (month == 'Сентябрь' or month == 'сентябрь') and 1 <= day <= 23:\n",
        "    print('Ваш знак зодиака:Дева')\n",
        "elif (month == 'Сентябрь' or month == 'сентябрь') and 24 <= day <= 30:\n",
        "    print('Ваш знак зодиака:Весы')\n",
        "elif (month == 'Октябрь' or month == 'октябрь') and 1 <= day <= 23:\n",
        "    print('Ваш знак зодиака:Весы')\n",
        "elif (month == 'Октябрь' or month == 'октябрь') and 24 <= day <= 31:\n",
        "    print('Ваш знак зодиака:Скорпион')\n",
        "elif (month == 'Ноябрь' or month == 'ноябрь') and 1 <= day <= 22:\n",
        "    print('Ваш знак зодиака:Скорпион')\n",
        "elif (month == 'Ноябрь' or month == 'ноябрь') and 23 <= day <= 30:\n",
        "    print('Ваш знак зодиака:Стрелец')\n",
        "elif (month == 'Декабрь' or month == 'декабрь') and 1 <= day <= 22:\n",
        "    print('Ваш знак зодиака:Стрелец')\n",
        "elif (month == 'Декабрь' or month == 'декабрь') and 23 <= day <= 31:\n",
        "    print('Ваш знак зодиака:Козерог')\n",
        "elif (month == 'Январь' or month == 'январь') and 1 <= day <= 20:\n",
        "    print('Ваш знак зодиака:Козерог')\n",
        "elif (month == 'Январь' or month == 'январь') and 21 <= day <= 31:\n",
        "    print('Ваш знак зодиака:Водолей')\n",
        "elif (month == 'Февраль' or month == 'февраль') and 1 <= day <= 19:\n",
        "    print('Ваш знак зодиака:Водолей')\n",
        "elif (month == 'Февраль' or month == 'февраль') and 20 <= day <= 29:\n",
        "    print('Ваш знак зодиака:Рыбы')\n",
        "elif (month == 'Март' or month == 'март') and 1 <= day <= 20:\n",
        "    print('Ваш знак зодиака:Рыбы')"
      ],
      "execution_count": null,
      "outputs": [
        {
          "output_type": "stream",
          "text": [
            "Введите день: 29\n",
            "Введите месяц: Март\n",
            "Ваш знак зодиака:Овен\n"
          ],
          "name": "stdout"
        }
      ]
    },
    {
      "cell_type": "code",
      "metadata": {
        "colab": {
          "base_uri": "https://localhost:8080/"
        },
        "id": "Gx-xnBNsGBV-",
        "outputId": "3cb9bc8b-7ede-4ba6-8ca7-ae6e7f30a6d4"
      },
      "source": [
        "# Task 4\n",
        "width = 10\n",
        "length = 205\n",
        "height = 5\n",
        "if width < 15 and length < 15 and height <15:\n",
        "    print('Коробка №1')\n",
        "elif (15 < width < 50 or 15 < length < 50 or 15 < height < 50) and length <= 200:\n",
        "    print('Коробка №2')\n",
        "elif length > 200:\n",
        "    print('Упаковка для лыж')\n",
        "else:\n",
        "    print('Стандартная коробка №3')"
      ],
      "execution_count": null,
      "outputs": [
        {
          "output_type": "stream",
          "text": [
            "Упаковка для лыж\n"
          ],
          "name": "stdout"
        }
      ]
    },
    {
      "cell_type": "code",
      "metadata": {
        "colab": {
          "base_uri": "https://localhost:8080/"
        },
        "id": "FfYo2smmGKKs",
        "outputId": "1d74e9bd-d87f-41fe-c44d-5b0d96128bfc"
      },
      "source": [
        "# Task 5\n",
        "number = int(input())\n",
        "if (number % 10) + ((number % 100) // 10) + ((number % 1000) // 100) == ((number % 10000) // 1000) + ((number % 100000) // 10000) + ((number % 1000000) // 100000):\n",
        "    print('Счастливый билет')\n",
        "else:\n",
        "    print('Несчастливый билет')"
      ],
      "execution_count": null,
      "outputs": [
        {
          "output_type": "stream",
          "text": [
            "053008\n",
            "Счастливый билет\n"
          ],
          "name": "stdout"
        }
      ]
    },
    {
      "cell_type": "code",
      "metadata": {
        "colab": {
          "base_uri": "https://localhost:8080/"
        },
        "id": "CVjPbIGiGNpI",
        "outputId": "12dbd37a-fe3f-4154-cc45-28a5cf499ec2"
      },
      "source": [
        "# Task 6\n",
        "type = (input('Введите тип фигуры:'))\n",
        "if type == 'Треугольник':\n",
        "    a = int(input('Введите длину стороны A:'))\n",
        "    b = int(input('Введите длину стороны B:'))\n",
        "    c = int(input('Введите длину стороны C:'))\n",
        "    p = float((a+b+c) / 2)\n",
        "    S = float((p * (p - a) * (p - b) * (p - c)) ** (1 / 2))\n",
        "    print (S)\n",
        "elif type == 'Прямоугольник':\n",
        "    a = int(input('Введите длину стороны A:'))\n",
        "    b = int(input('Введите длину стороны B:'))\n",
        "    S = float (a * b)\n",
        "    print (S)\n",
        "elif type == 'Круг':\n",
        "    r = int(input('Введите радиус круга:'))\n",
        "    S = float (3.14 * (r ** 2))\n",
        "    print (S)"
      ],
      "execution_count": null,
      "outputs": [
        {
          "output_type": "stream",
          "text": [
            "Введите тип фигуры:Круг\n",
            "Введите радиус круга:10\n",
            "314.0\n"
          ],
          "name": "stdout"
        }
      ]
    },
    {
      "cell_type": "code",
      "metadata": {
        "id": "AUX2oA3iGW6O"
      },
      "source": [],
      "execution_count": null,
      "outputs": []
    }
  ]
}