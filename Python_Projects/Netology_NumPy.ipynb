{
  "nbformat": 4,
  "nbformat_minor": 0,
  "metadata": {
    "colab": {
      "provenance": []
    },
    "kernelspec": {
      "name": "python3",
      "display_name": "Python 3"
    },
    "language_info": {
      "name": "python"
    }
  },
  "cells": [
    {
      "cell_type": "code",
      "execution_count": null,
      "metadata": {
        "id": "7K33zYNN8scZ"
      },
      "outputs": [],
      "source": [
        "import numpy as np"
      ]
    },
    {
      "cell_type": "code",
      "source": [
        "#Task 1\n",
        "N = int(input())\n",
        "x = np.arange(0, N)\n",
        "x[::-1]"
      ],
      "metadata": {
        "colab": {
          "base_uri": "https://localhost:8080/"
        },
        "id": "LoQaAlQ89GNx",
        "outputId": "832333fa-ff55-4b72-caad-43dc07cb3b88"
      },
      "execution_count": null,
      "outputs": [
        {
          "name": "stdout",
          "output_type": "stream",
          "text": [
            "5\n"
          ]
        },
        {
          "output_type": "execute_result",
          "data": {
            "text/plain": [
              "array([4, 3, 2, 1, 0])"
            ]
          },
          "metadata": {},
          "execution_count": 2
        }
      ]
    },
    {
      "cell_type": "code",
      "source": [
        "#Task 2\n",
        "n = int(input())\n",
        "i = 0\n",
        "sum_ = 0\n",
        "matrix = np.diag(np.arange(0, n , 1)[::-1], k=0)\n",
        "for element in matrix:\n",
        "    sum_ += element[i]\n",
        "    i += 1\n",
        "print(matrix)\n",
        "print(sum_)"
      ],
      "metadata": {
        "colab": {
          "base_uri": "https://localhost:8080/"
        },
        "id": "PYY2AkaW9QJ0",
        "outputId": "97e3823e-3514-4369-a7aa-5322cbce9e61"
      },
      "execution_count": null,
      "outputs": [
        {
          "output_type": "stream",
          "name": "stdout",
          "text": [
            "10\n",
            "[[9 0 0 0 0 0 0 0 0 0]\n",
            " [0 8 0 0 0 0 0 0 0 0]\n",
            " [0 0 7 0 0 0 0 0 0 0]\n",
            " [0 0 0 6 0 0 0 0 0 0]\n",
            " [0 0 0 0 5 0 0 0 0 0]\n",
            " [0 0 0 0 0 4 0 0 0 0]\n",
            " [0 0 0 0 0 0 3 0 0 0]\n",
            " [0 0 0 0 0 0 0 2 0 0]\n",
            " [0 0 0 0 0 0 0 0 1 0]\n",
            " [0 0 0 0 0 0 0 0 0 0]]\n",
            "45\n"
          ]
        }
      ]
    },
    {
      "cell_type": "code",
      "source": [
        "#Task 3\n",
        "\n",
        "4x + 2y + z = 4\n",
        "x + 3y = 12\n",
        "5y + 4z = -3"
      ],
      "metadata": {
        "id": "i1fx981G9p3Y"
      },
      "execution_count": null,
      "outputs": []
    },
    {
      "cell_type": "code",
      "source": [
        "a = np.array([[4, 2, 1], [1, 3, 0], [0, 5, 4]])\n",
        "b = np.array([4, 12, -3])\n",
        "np.linalg.solve(a, b)"
      ],
      "metadata": {
        "colab": {
          "base_uri": "https://localhost:8080/"
        },
        "id": "foL9p2Ye97Ft",
        "outputId": "91c4b3c9-4c37-4635-bec4-bb4987d790e6"
      },
      "execution_count": null,
      "outputs": [
        {
          "output_type": "execute_result",
          "data": {
            "text/plain": [
              "array([ 0.46666667,  3.84444444, -5.55555556])"
            ]
          },
          "metadata": {},
          "execution_count": 7
        }
      ]
    },
    {
      "cell_type": "code",
      "source": [
        "np.allclose(np.dot(a, np.linalg.solve(a, b)), b)"
      ],
      "metadata": {
        "colab": {
          "base_uri": "https://localhost:8080/"
        },
        "id": "7K278Tjv-YFG",
        "outputId": "e3b9ee9f-bf50-47d8-810f-65777ae2b35b"
      },
      "execution_count": null,
      "outputs": [
        {
          "output_type": "execute_result",
          "data": {
            "text/plain": [
              "True"
            ]
          },
          "metadata": {},
          "execution_count": 11
        }
      ]
    },
    {
      "cell_type": "code",
      "source": [
        "from numpy import linalg"
      ],
      "metadata": {
        "id": "SL1jQKGk_Gl9"
      },
      "execution_count": null,
      "outputs": []
    },
    {
      "cell_type": "code",
      "source": [
        "#Task 4\n",
        "users_stats = np.array(\n",
        "    [\n",
        "        [2, 1, 0, 0, 0, 0],\n",
        "        [1, 1, 2, 1, 0, 0],\n",
        "        [2, 0, 1, 0, 0, 0],\n",
        "        [1, 1, 2, 1, 0, 1],\n",
        "        [0, 0, 1, 2, 0, 0],\n",
        "        [0, 0, 0, 0, 0, 5],\n",
        "        [1, 0, 0, 0, 0, 0],\n",
        "        [0, 1, 1, 0, 0, 0],\n",
        "        [0, 0, 0, 1, 1, 3],\n",
        "        [1, 0, 0, 2, 1, 4]\n",
        "    ],\n",
        "    np.int32\n",
        ")\n",
        "\n",
        "next_user_stats = np.array([0, 1, 2, 0, 0, 0])"
      ],
      "metadata": {
        "id": "y784THbU_M-n"
      },
      "execution_count": null,
      "outputs": []
    },
    {
      "cell_type": "code",
      "source": [
        "def cosine(a, b):\n",
        "    result = []\n",
        "    for user in users_stats:\n",
        "        aLength = np.sqrt( (user*user).sum() )\n",
        "        bLength = np.sqrt( (next_user_stats*next_user_stats).sum() )\n",
        "        cosine_res = np.dot( user, next_user_stats ) / ( aLength * bLength )\n",
        "        result.append(cosine_res)\n",
        "    return (result)\n",
        "cosine(users_stats,next_user_stats)\n"
      ],
      "metadata": {
        "colab": {
          "base_uri": "https://localhost:8080/"
        },
        "id": "MBPwm4jq_PFh",
        "outputId": "62437b88-251e-4581-e3a2-e6b5af93f919"
      },
      "execution_count": null,
      "outputs": [
        {
          "output_type": "execute_result",
          "data": {
            "text/plain": [
              "[0.19999999999999996,\n",
              " 0.8451542547285165,\n",
              " 0.3999999999999999,\n",
              " 0.7905694150420948,\n",
              " 0.3999999999999999,\n",
              " 0.0,\n",
              " 0.0,\n",
              " 0.9486832980505138,\n",
              " 0.0,\n",
              " 0.0]"
            ]
          },
          "metadata": {},
          "execution_count": 40
        }
      ]
    },
    {
      "cell_type": "code",
      "source": [
        "i = 0\n",
        "for element in cosine(users_stats, next_user_stats):\n",
        "        i += 1\n",
        "        if element == max(cosine(users_stats, next_user_stats)):\n",
        "            print(f'Самый похожий пользователь с User_id {i}')\n",
        ""
      ],
      "metadata": {
        "colab": {
          "base_uri": "https://localhost:8080/"
        },
        "id": "yKsJvt2k_ZVx",
        "outputId": "3fcf193d-db9d-4c22-e2be-4f6590c32864"
      },
      "execution_count": null,
      "outputs": [
        {
          "output_type": "stream",
          "name": "stdout",
          "text": [
            "Самый похожий пользователь с User_id 8\n"
          ]
        }
      ]
    }
  ]
}